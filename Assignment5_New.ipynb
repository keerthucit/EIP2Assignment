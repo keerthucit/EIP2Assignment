{
  "nbformat": 4,
  "nbformat_minor": 0,
  "metadata": {
    "colab": {
      "name": "Assignment5_New.ipynb",
      "version": "0.3.2",
      "provenance": [],
      "collapsed_sections": [],
      "include_colab_link": true
    },
    "kernelspec": {
      "name": "python3",
      "display_name": "Python 3"
    }
  },
  "cells": [
    {
      "cell_type": "markdown",
      "metadata": {
        "id": "view-in-github",
        "colab_type": "text"
      },
      "source": [
        "<a href=\"https://colab.research.google.com/github/keerthucit/EIP2Assignment/blob/master/Assignment5_New.ipynb\" target=\"_parent\"><img src=\"https://colab.research.google.com/assets/colab-badge.svg\" alt=\"Open In Colab\"/></a>"
      ]
    },
    {
      "cell_type": "code",
      "metadata": {
        "id": "e0tLby1j_Mqy",
        "colab_type": "code",
        "outputId": "1278bbdd-f8c4-4216-cac2-bd1e0cbe2fe7",
        "colab": {
          "base_uri": "https://localhost:8080/",
          "height": 346
        }
      },
      "source": [
        "pip install git+https://github.com/qubvel/classification_models.git"
      ],
      "execution_count": 33,
      "outputs": [
        {
          "output_type": "stream",
          "text": [
            "Collecting git+https://github.com/qubvel/classification_models.git\n",
            "  Cloning https://github.com/qubvel/classification_models.git to /tmp/pip-req-build-pzy1lezi\n",
            "  Running command git clone -q https://github.com/qubvel/classification_models.git /tmp/pip-req-build-pzy1lezi\n",
            "  Running command git submodule update --init --recursive -q\n",
            "Requirement already satisfied (use --upgrade to upgrade): image-classifiers==0.2.2 from git+https://github.com/qubvel/classification_models.git in /usr/local/lib/python3.6/dist-packages\n",
            "Requirement already satisfied: keras>=2.1.0 in /usr/local/lib/python3.6/dist-packages (from image-classifiers==0.2.2) (2.2.4)\n",
            "Requirement already satisfied: scipy>=0.14 in /usr/local/lib/python3.6/dist-packages (from keras>=2.1.0->image-classifiers==0.2.2) (1.3.0)\n",
            "Requirement already satisfied: six>=1.9.0 in /usr/local/lib/python3.6/dist-packages (from keras>=2.1.0->image-classifiers==0.2.2) (1.12.0)\n",
            "Requirement already satisfied: numpy>=1.9.1 in /usr/local/lib/python3.6/dist-packages (from keras>=2.1.0->image-classifiers==0.2.2) (1.16.4)\n",
            "Requirement already satisfied: keras-preprocessing>=1.0.5 in /usr/local/lib/python3.6/dist-packages (from keras>=2.1.0->image-classifiers==0.2.2) (1.1.0)\n",
            "Requirement already satisfied: keras-applications>=1.0.6 in /usr/local/lib/python3.6/dist-packages (from keras>=2.1.0->image-classifiers==0.2.2) (1.0.8)\n",
            "Requirement already satisfied: pyyaml in /usr/local/lib/python3.6/dist-packages (from keras>=2.1.0->image-classifiers==0.2.2) (3.13)\n",
            "Requirement already satisfied: h5py in /usr/local/lib/python3.6/dist-packages (from keras>=2.1.0->image-classifiers==0.2.2) (2.8.0)\n",
            "Building wheels for collected packages: image-classifiers\n",
            "  Building wheel for image-classifiers (setup.py) ... \u001b[?25l\u001b[?25hdone\n",
            "  Stored in directory: /tmp/pip-ephem-wheel-cache-7h5bazoc/wheels/de/2b/fd/29a6d33edb8c28bc7d94e95ea1d39c9a218ac500a3cfb1b197\n",
            "Successfully built image-classifiers\n"
          ],
          "name": "stdout"
        }
      ]
    },
    {
      "cell_type": "code",
      "metadata": {
        "id": "gXmQUGBG_VmI",
        "colab_type": "code",
        "colab": {}
      },
      "source": [
        "## Load the trained RESNET-18 model [ Change the input to CIFAR-10 input (32,32,3) instead of (224,224,3)]\\n\",\n",
        "from classification_models.resnet import ResNet18, preprocess_input       \n",
        "model = ResNet18((32, 32, 3), weights='imagenet', classes=10, include_top=False)\n"
      ],
      "execution_count": 0,
      "outputs": []
    },
    {
      "cell_type": "code",
      "metadata": {
        "id": "9kMaa1Dn_fzi",
        "colab_type": "code",
        "colab": {}
      },
      "source": [
        "!pip install -q keras\n",
        "import keras\n",
        "from keras.datasets import cifar10\n",
        "from keras.utils import to_categorical\n",
        "from keras.preprocessing.image import ImageDataGenerator\n",
        "from keras.optimizers import Adam\n",
        "from keras.layers import MaxPooling2D,Activation,GlobalAveragePooling2D\n",
        "n_classes = 10  \n",
        "x = GlobalAveragePooling2D()(model.output)\n",
        "# add a fully-connected layer\n",
        "x = keras.layers.Dense(1024, activation='relu')(x)       \n",
        "output = keras.layers.Dense(n_classes, activation='softmax')(x)\n",
        "model = keras.models.Model(inputs=[model.input], outputs=[output])"
      ],
      "execution_count": 0,
      "outputs": []
    },
    {
      "cell_type": "code",
      "metadata": {
        "id": "pnN3FXTk_l6Z",
        "colab_type": "code",
        "colab": {}
      },
      "source": [
        "from keras.utils import np_utils\n",
        "nb_classes = 10\n",
        "# load dataset\n",
        "(X_train, y_train), (X_test, y_test) = cifar10.load_data()\n",
        "y_train = y_train.reshape(y_train.shape[0]) \n",
        " # somehow y_train comes as a 2D nx1 matrix\\n\",\n",
        "y_test = y_test.reshape(y_test.shape[0])\n",
        "X_train = X_train.astype('float32')\n",
        "X_test = X_test.astype('float32')\n",
        "X_train /= 255\n",
        "X_test /= 255 \n",
        "Y_train = np_utils.to_categorical(y_train, nb_classes)\n",
        "Y_test = np_utils.to_categorical(y_test, nb_classes)\n"
      ],
      "execution_count": 0,
      "outputs": []
    },
    {
      "cell_type": "code",
      "metadata": {
        "id": "uy8o5-84_qSt",
        "colab_type": "code",
        "colab": {}
      },
      "source": [
        "## Pls check this link:- https://stackoverflow.com/questions/49259361/valueerror-decode-predictions-expects-a-batch-of-predictions-i-e-a-2d-array\""
      ],
      "execution_count": 0,
      "outputs": []
    },
    {
      "cell_type": "code",
      "metadata": {
        "id": "boVupyC1_4tn",
        "colab_type": "code",
        "outputId": "58c876f7-0bc2-4cfd-9673-768cda2c34da",
        "colab": {
          "base_uri": "https://localhost:8080/",
          "height": 35
        }
      },
      "source": [
        "from google.colab import drive\n",
        "drive.mount('/content/gdrive')"
      ],
      "execution_count": 37,
      "outputs": [
        {
          "output_type": "stream",
          "text": [
            "Drive already mounted at /content/gdrive; to attempt to forcibly remount, call drive.mount(\"/content/gdrive\", force_remount=True).\n"
          ],
          "name": "stdout"
        }
      ]
    },
    {
      "cell_type": "code",
      "metadata": {
        "id": "GG97FBS_BMsj",
        "colab_type": "code",
        "outputId": "6601128c-93c7-4b82-c8ed-24ffa1234312",
        "colab": {
          "base_uri": "https://localhost:8080/",
          "height": 110
        }
      },
      "source": [
        "# compile model\n",
        "model.compile(optimizer='adam', loss='categorical_crossentropy', metrics=['accuracy'])\n",
        "#create data generator\n",
        "datagen = ImageDataGenerator(\n",
        "featurewise_center=False,  # set input mean to 0 over the dataset\n",
        "samplewise_center=False,  # set each sample mean to 0\n",
        "featurewise_std_normalization=False,  # divide inputs by std of the dataset\n",
        "samplewise_std_normalization=False,  # divide each input by its std\n",
        "zca_whitening=False,  # apply ZCA whitening\n",
        "rotation_range=45,  # randomly rotate images in the range (degrees, 0 to 180)\n",
        "width_shift_range=0.2,  # randomly shift images horizontally (fraction of total width)\n",
        "height_shift_range=0.2,  # randomly shift images vertically (fraction of total height)\n",
        "horizontal_flip=True,  # randomly flip images\n",
        "vertical_flip=False)  # randomly flip images   \n",
        "# prepare iterator\n",
        "it_train=datagen.flow(X_train, Y_train, batch_size=32)\n",
        "it_test=datagen.flow(X_test, Y_test, batch_size=32)    \n",
        "filepath=\"/content/gdrive/My Drive/Restnet18_PreTrained.hdf5\"\n",
        "mcp_save = keras.callbacks.ModelCheckpoint(filepath, save_best_only=True, monitor='val_loss', mode='min')     \n",
        "steps = int(X_train.shape[0] / 32)\n",
        "model_details = model.fit_generator(it_train, steps_per_epoch=steps, epochs=10, verbose=2, validation_data=it_test, validation_steps=len(it_test), callbacks=[mcp_save]),\n",
        "# Score trained model.\n",
        "scores = model.evaluate_generator(it_test, steps=len(it_test), verbose=1)\n",
        "print('Test loss:', scores[0])\n",
        "print('Test accuracy:', scores[1])"
      ],
      "execution_count": 0,
      "outputs": [
        {
          "output_type": "stream",
          "text": [
            "W0701 18:13:28.609982 140650101651328 deprecation.py:323] From /usr/local/lib/python3.6/dist-packages/tensorflow/python/ops/math_grad.py:1250: add_dispatch_support.<locals>.wrapper (from tensorflow.python.ops.array_ops) is deprecated and will be removed in a future version.\n",
            "Instructions for updating:\n",
            "Use tf.where in 2.0, which has the same broadcast rule as np.where\n"
          ],
          "name": "stderr"
        },
        {
          "output_type": "stream",
          "text": [
            "Epoch 1/10\n"
          ],
          "name": "stdout"
        }
      ]
    },
    {
      "cell_type": "markdown",
      "metadata": {
        "id": "3JV61Z6-vL6Z",
        "colab_type": "text"
      },
      "source": [
        ""
      ]
    },
    {
      "cell_type": "code",
      "metadata": {
        "id": "V6fTgDrOf01u",
        "colab_type": "code",
        "colab": {}
      },
      "source": [
        "predictions = model.predict([X_test])\n",
        "y_class = predictions.argmax(axis=-1)"
      ],
      "execution_count": 0,
      "outputs": []
    },
    {
      "cell_type": "code",
      "metadata": {
        "id": "HnCVPEw2f66d",
        "colab_type": "code",
        "colab": {}
      },
      "source": [
        "import numpy as n\n",
        "correct_indices = np.nonzero(y_class == y_test)[0]\n",
        "incorrect_indices = np.nonzero(y_class != y_test)[0]\n",
        "print()\n",
        "print(len(correct_indices),\\\" classified correctly\\\")\n",
        "print(len(incorrect_indices),\\\" classified Incorrectly\\\")"
      ],
      "execution_count": 0,
      "outputs": []
    },
    {
      "cell_type": "code",
      "metadata": {
        "id": "Pp0XDA6vgN2Z",
        "colab_type": "code",
        "colab": {}
      },
      "source": [
        "examples_per_class = 8\n",
        "y_test_pred= y_class\n",
        "### class_name = {0: 'airplane', 1: 'automobile', 2: 'bird', 3: 'cat', 4: 'deer', 5: 'dog', 6: 'frog', 7: 'horse', 8: 'ship', 9: 'truck'}\n",
        "## Just for reference\n",
        "import matplotlib.pyplot as plt\n",
        "plt.figure()\n",
        "for i, correct in enumerate(correct_indices[:9]):\n",
        "  plt.subplot(3, 3, i + 1)\n",
        "  plt.imshow(X_test[correct].reshape(32,32,3), interpolation='none')\n",
        "  plt.title(\\\"Predicted {}, Class {}\\\".format(y_class[correct], y_test[correct]))\n",
        "plt.figure()\n",
        "for i, incorrect in enumerate(correct_indices[:9]):\n",
        "  plt.subplot(3, 3, i + 1)\n",
        "  plt.imshow(X_test[incorrect].reshape(32,32,3), interpolation='none')\n",
        "  plt.title(\\\"Predicted {}, Class {}\\\".format(y_class[incorrect], y_test[incorrect]))\n",
        "plt.figure()\n",
        "plt.show()"
      ],
      "execution_count": 0,
      "outputs": []
    },
    {
      "cell_type": "code",
      "metadata": {
        "id": "1MUVHwOuga-G",
        "colab_type": "code",
        "colab": {}
      },
      "source": [
        "nb_classes = 10\n",
        "class_name = {0: 'airplane', 1: 'automobile', 2: 'bird', 3: 'cat', 4: 'deer', 5: 'dog', 6: 'frog', 7: 'horse', 8: 'ship', 9: 'truck'}\n",
        "def draw_img(i):\n",
        "  im = X_train[i]\n",
        "  c = y_train[i]\n",
        "  plt.imshow(im)\n",
        "  plt.title(\"Class %d (%s)\" % (c, class_name[c]))\n",
        "  draw_img(11231)\n",
        "  draw_img(231)\n",
        "  draw_img(123)\n",
        "  draw_img(321)\n",
        "            "
      ],
      "execution_count": 0,
      "outputs": []
    },
    {
      "cell_type": "code",
      "metadata": {
        "id": "FA9ie43ViKB3",
        "colab_type": "code",
        "colab": {}
      },
      "source": [
        "!ls"
      ],
      "execution_count": 0,
      "outputs": []
    },
    {
      "cell_type": "code",
      "metadata": {
        "id": "2N_CK_g-ivd0",
        "colab_type": "code",
        "colab": {}
      },
      "source": [
        "model.summary()"
      ],
      "execution_count": 0,
      "outputs": []
    },
    {
      "cell_type": "code",
      "metadata": {
        "id": "UtFzGmZdjEnk",
        "colab_type": "code",
        "colab": {}
      },
      "source": [
        "from keras.applications.vgg16 import VGG16, preprocess_input, decode_predictions\n",
        "from keras.preprocessing import image\n",
        "import keras.backend as K\n",
        "import cv2\n",
        "img_path_list = ['/content/horse.png','/content/bird.png','/content/cat.png','/content/frog.png']\n",
        "for i in range(len(img_path_list)):\n",
        "    img_path = img_path_list[i]\n",
        "    img = image.load_img(img_path, target_size=(32, 32))\n",
        "    x = image.img_to_array(img)\n",
        "    x = np.expand_dims(x, axis=0)\n",
        "    x = preprocess_input(x)\n",
        "      preds = model.predict(x)\n",
        "      class_idx = np.argmax(preds[0])\n",
        "      class_output = model.output[:, class_idx]\n",
        "  last_conv_layer = model.get_layer(\"zero_padding2d_11\")\n",
        "  grads = K.gradients(class_output, last_conv_layer.output)[0]\n",
        "  pooled_grads = K.mean(grads, axis=(0, 1, 2))\n",
        "  iterate = K.function([model.input], [pooled_grads, last_conv_layer.output[0]])\n",
        "  pooled_grads_value, conv_layer_output_value = iterate([x])\n",
        "  for i in range(10):\n",
        "    conv_layer_output_value[:, :, i] *= pooled_grads_value[i]\n",
        "  heatmap = np.mean(conv_layer_output_value, axis=-1)\n",
        "  heatmap = np.maximum(heatmap, 0)\n",
        "  heatmap /= np.max(heatmap)\n",
        "  from google.colab.patches import cv2_imshow\n",
        "  img = cv2.imread(img_path)\n",
        "  heatmap = cv2.resize(heatmap, (img.shape[1], img.shape[0]))\n",
        "  heatmap = np.uint8(255 * heatmap)\n",
        "  heatmap = cv2.applyColorMap(heatmap, cv2.COLORMAP_JET)\n",
        "  superimposed_img = cv2.addWeighted(img, 0.6, heatmap, 0.4, 0)\n",
        "  superimposed_img = cv2.addWeighted(img, 0.6, heatmap, 0.4, 0)\n",
        "  numpy_horizontal_concat = np.concatenate((img, superimposed_img), axis=1)\n",
        "  cv2_imshow(numpy_horizontal_concat)"
      ],
      "execution_count": 0,
      "outputs": []
    },
    {
      "cell_type": "code",
      "metadata": {
        "id": "S49JbHbrmEiF",
        "colab_type": "code",
        "colab": {}
      },
      "source": [
        "#### Confusion Matrix (Add elements along the diagonal = No of correctly classified images)\n",
        "from sklearn.metrics import classification_report, confusion_matrix\n",
        "for ix in range(10):\n",
        "   print(ix, confusion_matrix(np.argmax(Y_test,axis=1),y_class)[ix].sum())\n",
        "cm = confusion_matrix(np.argmax(Y_test,axis=1),y_class)\n",
        "print(cm)\n",
        "# Visualizing of confusion matrix\n",
        "import seaborn as sn\n",
        "import pandas  as pd\n",
        "df_cm = pd.DataFrame(cm, range(10), range(10))\n",
        "plt.figure(figsize = (10,7))\n",
        "sn.set(font_scale=1.4)#for label size\n",
        "sn.heatmap(df_cm, annot=True,annot_kws={\"size\": 12})# font size\n",
        "plt.show()"
      ],
      "execution_count": 0,
      "outputs": []
    },
    {
      "cell_type": "code",
      "metadata": {
        "id": "PPI5yIEf0yhX",
        "colab_type": "code",
        "colab": {}
      },
      "source": [
        "\n",
        "     \n",
        "          \n",
        "    "
      ],
      "execution_count": 0,
      "outputs": []
    }
  ]
}