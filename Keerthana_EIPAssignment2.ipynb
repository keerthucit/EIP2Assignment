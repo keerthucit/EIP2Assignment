{
  "nbformat": 4,
  "nbformat_minor": 0,
  "metadata": {
    "colab": {
      "name": "Keerthana_EIPAssignment2.ipynb",
      "version": "0.3.2",
      "provenance": [],
      "collapsed_sections": [],
      "include_colab_link": true
    },
    "kernelspec": {
      "name": "python3",
      "display_name": "Python 3"
    }
  },
  "cells": [
    {
      "cell_type": "markdown",
      "metadata": {
        "id": "view-in-github",
        "colab_type": "text"
      },
      "source": [
        "<a href=\"https://colab.research.google.com/github/keerthucit/EIP2Assignment/blob/master/Keerthana_EIPAssignment2.ipynb\" target=\"_parent\"><img src=\"https://colab.research.google.com/assets/colab-badge.svg\" alt=\"Open In Colab\"/></a>"
      ]
    },
    {
      "cell_type": "code",
      "metadata": {
        "id": "NJtCdpIU94Vr",
        "colab_type": "code",
        "outputId": "98fa1c95-c70f-4211-944a-8059dcf19174",
        "colab": {
          "base_uri": "https://localhost:8080/",
          "height": 34
        }
      },
      "source": [
        "def QuickSort(qarr):\n",
        "    if len(qarr) <= 1:\n",
        "        return qarr\n",
        "    pivotElement = qarr[len(qarr) // 2]\n",
        "    leftArr = [i for i in qarr if i < pivotElement]\n",
        "    midArr = [i for i in qarr if i == pivotElement]\n",
        "    rightArr = [i for i in qarr if i > pivotElement]\n",
        "    return QuickSort(leftArr) + midArr + QuickSort(rightArr)\n",
        "\n",
        "print(QuickSort([4,7,9,11,11,2,1]))\n"
      ],
      "execution_count": 0,
      "outputs": [
        {
          "output_type": "stream",
          "text": [
            "[1, 2, 4, 7, 9, 11, 11]\n"
          ],
          "name": "stdout"
        }
      ]
    },
    {
      "cell_type": "code",
      "metadata": {
        "id": "DMK4kJDy-dUV",
        "colab_type": "code",
        "outputId": "b7ba3e0c-b4e0-469a-b81e-a2c22cf7dab6",
        "colab": {
          "base_uri": "https://localhost:8080/",
          "height": 187
        }
      },
      "source": [
        "var = 3\n",
        "print(type(var)) \n",
        "print(var)      \n",
        "print(var + 1)   \n",
        "print(var - 1)   \n",
        "print(var * 2)   \n",
        "print(var ** 2)  \n",
        "var += 1\n",
        "print(var)  \n",
        "var *= 2\n",
        "print(var)  \n",
        "vary = 2.5\n",
        "print(type(vary)) \n",
        "print(vary, vary + 1, vary * 2, vary ** 2)\n"
      ],
      "execution_count": 0,
      "outputs": [
        {
          "output_type": "stream",
          "text": [
            "<class 'int'>\n",
            "3\n",
            "4\n",
            "2\n",
            "6\n",
            "9\n",
            "4\n",
            "8\n",
            "<class 'float'>\n",
            "2.5 3.5 5.0 6.25\n"
          ],
          "name": "stdout"
        }
      ]
    },
    {
      "cell_type": "code",
      "metadata": {
        "id": "7eTRfOrd-nrm",
        "colab_type": "code",
        "outputId": "dd700e74-4a8c-4ecc-c023-755af8c525b7",
        "colab": {
          "base_uri": "https://localhost:8080/",
          "height": 102
        }
      },
      "source": [
        "boolT = True\n",
        "boolF = False\n",
        "print(type(boolT)) # Prints \"<class 'bool'>\"\n",
        "print(boolT and boolF) # Logical AND; prints \"False\"\n",
        "print(boolT or boolF)  # Logical OR; prints \"True\"\n",
        "print(not boolT)   # Logical NOT; prints \"False\"\n",
        "print(boolT != boolF)  # Logical XOR; prints \"True\"\n"
      ],
      "execution_count": 0,
      "outputs": [
        {
          "output_type": "stream",
          "text": [
            "<class 'bool'>\n",
            "False\n",
            "True\n",
            "False\n",
            "True\n"
          ],
          "name": "stdout"
        }
      ]
    },
    {
      "cell_type": "code",
      "metadata": {
        "id": "BGpBzMfB-uf9",
        "colab_type": "code",
        "outputId": "19fee8c3-64a3-465a-f334-19625b8cf014",
        "colab": {
          "base_uri": "https://localhost:8080/",
          "height": 85
        }
      },
      "source": [
        "h = 'hello'    # String literals can use single quotes\n",
        "w = \"EIPians\"    # or double quotes; it does not matter.\n",
        "print(h)       # Prints \"hello\"\n",
        "print(len(h))  # String length; prints \"5\"\n",
        "hwconcat = h + ' ' + w  # String concatenation\n",
        "print(hwconcat)  # prints \"hello EIPians\"\n",
        "hwstyle = '%s %s %d' % (h, w, 12)  # sprintf style string formatting\n",
        "print(hwstyle)  # prints \"hello world 12\"\n"
      ],
      "execution_count": 0,
      "outputs": [
        {
          "output_type": "stream",
          "text": [
            "hello\n",
            "5\n",
            "hello EIPians\n",
            "hello EIPians 12\n"
          ],
          "name": "stdout"
        }
      ]
    },
    {
      "cell_type": "code",
      "metadata": {
        "id": "4Ehu9r_F-zNO",
        "colab_type": "code",
        "outputId": "f17ccb5e-4aaa-47a0-de0b-337b9b63c118",
        "colab": {
          "base_uri": "https://localhost:8080/",
          "height": 119
        }
      },
      "source": [
        "sTest = \"Hello\"\n",
        "print(sTest.capitalize())  # Capitalize a string; prints \"Hello\"\n",
        "print(sTest.upper())       # Convert a string to uppercase; prints \"HELLO\"\n",
        "print(sTest.rjust(7))      # Right-justify a string, padding with spaces; prints \"  hello\"\n",
        "print(sTest.center(7))     # Center a string, padding with spaces; prints \" hello \"\n",
        "print(sTest.replace('l', '(ell)'))  # Replace all instances of one substring with another;\n",
        "                                # prints \"he(ell)(ell)o\"\n",
        "print('  EIpians '.strip())  # Strip leading and trailing whitespace; prints \"EIPians\"\n"
      ],
      "execution_count": 0,
      "outputs": [
        {
          "output_type": "stream",
          "text": [
            "Hello\n",
            "HELLO\n",
            "  Hello\n",
            " Hello \n",
            "He(ell)(ell)o\n",
            "EIpians\n"
          ],
          "name": "stdout"
        }
      ]
    },
    {
      "cell_type": "code",
      "metadata": {
        "id": "Z6rJRIF3-4PV",
        "colab_type": "code",
        "outputId": "19b68843-d412-4225-b560-226d975cb208",
        "colab": {
          "base_uri": "https://localhost:8080/",
          "height": 102
        }
      },
      "source": [
        "xlist = [3, 1, 2]    # Create a list\n",
        "print(xlist, xlist[2])  # Prints \"[3, 1, 2] 2\"\n",
        "print(xlist[-1])     # Negative indices count from the end of the list; prints \"2\"\n",
        "xlist[2] = 'foo'     # Lists can contain elements of different types\n",
        "print(xlist)         # Prints \"[3, 1, 'foo']\"\n",
        "xlist.append('bar')  # Add a new element to the end of the list\n",
        "print(xlist)         # Prints \"[3, 1, 'foo', 'bar']\"\n",
        "lastElement = xlist.pop()      # Remove and return the last element of the list\n",
        "print(lastElement, xlist)      # Prints \"bar [3, 1, 'foo']\"\n"
      ],
      "execution_count": 0,
      "outputs": [
        {
          "output_type": "stream",
          "text": [
            "[3, 1, 2] 2\n",
            "2\n",
            "[3, 1, 'foo']\n",
            "[3, 1, 'foo', 'bar']\n",
            "bar [3, 1, 'foo']\n"
          ],
          "name": "stdout"
        }
      ]
    },
    {
      "cell_type": "code",
      "metadata": {
        "id": "gpItuufu-8Od",
        "colab_type": "code",
        "outputId": "cc79a974-8801-4d69-c308-4298b42cd835",
        "colab": {
          "base_uri": "https://localhost:8080/",
          "height": 136
        }
      },
      "source": [
        "listnums = list(range(5))     # range is a built-in function that creates a list of integers\n",
        "print(listnums)               # Prints \"[0, 1, 2, 3, 4]\"\n",
        "print(listnums[2:4])          # Get a slice from index 2 to 4 (exclusive); prints \"[2, 3]\"\n",
        "print(listnums[2:])           # Get a slice from index 2 to the end; prints \"[2, 3, 4]\"\n",
        "print(listnums[:2])           # Get a slice from the start to index 2 (exclusive); prints \"[0, 1]\"\n",
        "print(listnums[:])            # Get a slice of the whole list; prints \"[0, 1, 2, 3, 4]\"\n",
        "print(listnums[:-1])          # Slice indices can be negative; prints \"[0, 1, 2, 3]\"\n",
        "listnums[2:4] = [8, 9]        # Assign a new sublist to a slice\n",
        "print(listnums)               # Prints \"[0, 1, 8, 9, 4]\"\n"
      ],
      "execution_count": 0,
      "outputs": [
        {
          "output_type": "stream",
          "text": [
            "[0, 1, 2, 3, 4]\n",
            "[2, 3]\n",
            "[2, 3, 4]\n",
            "[0, 1]\n",
            "[0, 1, 2, 3, 4]\n",
            "[0, 1, 2, 3]\n",
            "[0, 1, 8, 9, 4]\n"
          ],
          "name": "stdout"
        }
      ]
    },
    {
      "cell_type": "code",
      "metadata": {
        "id": "fQv2qX5O_A5l",
        "colab_type": "code",
        "outputId": "48f010a3-4792-48e2-9f09-4567d00f20f2",
        "colab": {
          "base_uri": "https://localhost:8080/",
          "height": 136
        }
      },
      "source": [
        "listnums = list(range(5))     # range is a built-in function that creates a list of integers\n",
        "print(listnums)               # Prints \"[0, 1, 2, 3, 4]\"\n",
        "print(listnums[2:4])          # Get a slice from index 2 to 4 (exclusive); prints \"[2, 3]\"\n",
        "print(listnums[2:])           # Get a slice from index 2 to the end; prints \"[2, 3, 4]\"\n",
        "print(listnums[:2])           # Get a slice from the start to index 2 (exclusive); prints \"[0, 1]\"\n",
        "print(listnums[:])            # Get a slice of the whole list; prints \"[0, 1, 2, 3, 4]\"\n",
        "print(listnums[:-1])          # Slice indices can be negative; prints \"[0, 1, 2, 3]\"\n",
        "listnums[2:4] = [8, 9]        # Assign a new sublist to a slice\n",
        "print(listnums)               # Prints \"[0, 1, 8, 9, 4]\"\n"
      ],
      "execution_count": 0,
      "outputs": [
        {
          "output_type": "stream",
          "text": [
            "[0, 1, 2, 3, 4]\n",
            "[2, 3]\n",
            "[2, 3, 4]\n",
            "[0, 1]\n",
            "[0, 1, 2, 3, 4]\n",
            "[0, 1, 2, 3]\n",
            "[0, 1, 8, 9, 4]\n"
          ],
          "name": "stdout"
        }
      ]
    },
    {
      "cell_type": "code",
      "metadata": {
        "id": "QIW2eQ6h_E79",
        "colab_type": "code",
        "outputId": "9ef74256-74bd-404c-ffaa-42d038520ded",
        "colab": {
          "base_uri": "https://localhost:8080/",
          "height": 68
        }
      },
      "source": [
        "carnivores = ['cat', 'dog', 'monkey']\n",
        "for i, carni in enumerate(carnivores):\n",
        "    print('#%d: %s' % (i + 1, carni))\n",
        "# Prints \"#1: cat\", \"#2: dog\", \"#3: monkey\", each on its own line\n"
      ],
      "execution_count": 0,
      "outputs": [
        {
          "output_type": "stream",
          "text": [
            "#1: cat\n",
            "#2: dog\n",
            "#3: monkey\n"
          ],
          "name": "stdout"
        }
      ]
    },
    {
      "cell_type": "code",
      "metadata": {
        "id": "7Hl1IRSE_LqN",
        "colab_type": "code",
        "outputId": "d3f53138-cbe9-4b60-9790-2c31a4c1b5bd",
        "colab": {
          "base_uri": "https://localhost:8080/",
          "height": 34
        }
      },
      "source": [
        "n = [0, 1, 2, 3, 4]\n",
        "sqr = []\n",
        "for i in n:\n",
        "    sqr.append(i ** 2)\n",
        "print(sqr)   # Prints [0, 1, 4, 9, 16]\n"
      ],
      "execution_count": 0,
      "outputs": [
        {
          "output_type": "stream",
          "text": [
            "[0, 1, 4, 9, 16]\n"
          ],
          "name": "stdout"
        }
      ]
    },
    {
      "cell_type": "code",
      "metadata": {
        "id": "b6VYiwCS_RYV",
        "colab_type": "code",
        "outputId": "8570fafb-061b-442b-adc0-0eb72c2b7c6a",
        "colab": {
          "base_uri": "https://localhost:8080/",
          "height": 34
        }
      },
      "source": [
        "ns = [0, 1, 2, 3, 4]\n",
        "sqrs = [i ** 2 for i in ns]\n",
        "print(sqrs)   # Prints [0, 1, 4, 9, 16]\n"
      ],
      "execution_count": 0,
      "outputs": [
        {
          "output_type": "stream",
          "text": [
            "[0, 1, 4, 9, 16]\n"
          ],
          "name": "stdout"
        }
      ]
    },
    {
      "cell_type": "code",
      "metadata": {
        "id": "rBGDCmmM_Udt",
        "colab_type": "code",
        "outputId": "2ac1c2bc-e061-4a9b-9f19-6e22e54d7ea5",
        "colab": {
          "base_uri": "https://localhost:8080/",
          "height": 34
        }
      },
      "source": [
        "ns = [0, 1, 2, 3, 4]\n",
        "even_sq = [j ** 2 for j in ns if j % 2 == 0]\n",
        "print(even_sq)  # Prints \"[0, 4, 16]\"\n"
      ],
      "execution_count": 0,
      "outputs": [
        {
          "output_type": "stream",
          "text": [
            "[0, 4, 16]\n"
          ],
          "name": "stdout"
        }
      ]
    },
    {
      "cell_type": "code",
      "metadata": {
        "id": "qfwfNd1g_X3V",
        "colab_type": "code",
        "outputId": "153e48fe-2678-4218-b307-858211e71bdb",
        "colab": {
          "base_uri": "https://localhost:8080/",
          "height": 119
        }
      },
      "source": [
        "dicto = {'cat': 'cute', 'dog': 'furry'}  # Create a new dictionary with some data\n",
        "print(dicto['cat'])       # Get an entry from a dictionary; prints \"cute\"\n",
        "print('cat' in dicto)     # Check if a dictionary has a given key; prints \"True\"\n",
        "dicto['fish'] = 'wet'     # Set an entry in a dictionary\n",
        "print(dicto['fish'])      # Prints \"wet\"\n",
        "# print(d['monkey'])  # KeyError: 'monkey' not a key of d\n",
        "print(dicto.get('monkey', 'N/A'))  # Get an element with a default; prints \"N/A\"\n",
        "print(dicto.get('fish', 'N/A'))    # Get an element with a default; prints \"wet\"\n",
        "del dicto['fish']         # Remove an element from a dictionary\n",
        "print(dicto.get('fish', 'N/A')) # \"fish\" is no longer a key; prints \"N/A\"\n"
      ],
      "execution_count": 0,
      "outputs": [
        {
          "output_type": "stream",
          "text": [
            "cute\n",
            "True\n",
            "wet\n",
            "N/A\n",
            "wet\n",
            "N/A\n"
          ],
          "name": "stdout"
        }
      ]
    },
    {
      "cell_type": "code",
      "metadata": {
        "id": "MiOfpMbS_csV",
        "colab_type": "code",
        "outputId": "dc1cc88a-c919-4ad0-e272-0395a8c2887b",
        "colab": {
          "base_uri": "https://localhost:8080/",
          "height": 68
        }
      },
      "source": [
        "dMatch = {'person': 2, 'cat': 4, 'spider': 8}\n",
        "for anim in dMatch:\n",
        "    lgs = dMatch[anim]\n",
        "    print('A %s has %d legs' % (anim,lgs))\n",
        "# Prints \"A person has 2 legs\", \"A cat has 4 legs\", \"A spider has 8 legs\"\n"
      ],
      "execution_count": 0,
      "outputs": [
        {
          "output_type": "stream",
          "text": [
            "A person has 2 legs\n",
            "A cat has 4 legs\n",
            "A spider has 8 legs\n"
          ],
          "name": "stdout"
        }
      ]
    },
    {
      "cell_type": "code",
      "metadata": {
        "id": "aysgE7_8AFEN",
        "colab_type": "code",
        "outputId": "401927fe-3899-40c0-db65-08e315467b8d",
        "colab": {
          "base_uri": "https://localhost:8080/",
          "height": 68
        }
      },
      "source": [
        "dMatch = {'person': 2, 'cat': 4, 'spider': 8}\n",
        "for anim, lgs in dMatch.items():\n",
        "    print('A %s has %d legs' % (anim, lgs))\n",
        "# Prints \"A person has 2 legs\", \"A cat has 4 legs\", \"A spider has 8 legs\"\n"
      ],
      "execution_count": 0,
      "outputs": [
        {
          "output_type": "stream",
          "text": [
            "A person has 2 legs\n",
            "A cat has 4 legs\n",
            "A spider has 8 legs\n"
          ],
          "name": "stdout"
        }
      ]
    },
    {
      "cell_type": "code",
      "metadata": {
        "id": "BbWPViLqAOz8",
        "colab_type": "code",
        "outputId": "c3902614-e103-42b1-fda7-dbaee9add848",
        "colab": {
          "base_uri": "https://localhost:8080/",
          "height": 34
        }
      },
      "source": [
        "nos = [0, 1, 2, 3, 4]\n",
        "even_nos_to_square = {z: z ** 2 for z in nos if z % 2 == 0}\n",
        "print(even_nos_to_square)  # Prints \"{0: 0, 2: 4, 4: 16}\"\n"
      ],
      "execution_count": 0,
      "outputs": [
        {
          "output_type": "stream",
          "text": [
            "{0: 0, 2: 4, 4: 16}\n"
          ],
          "name": "stdout"
        }
      ]
    },
    {
      "cell_type": "code",
      "metadata": {
        "id": "OMGYR-aAAZfN",
        "colab_type": "code",
        "outputId": "e184d00d-0bc2-425a-e673-913299b16022",
        "colab": {
          "base_uri": "https://localhost:8080/",
          "height": 119
        }
      },
      "source": [
        "anims = {'cat', 'dog'}\n",
        "print('cat' in anims)   # Check if an element is in a set; prints \"True\"\n",
        "print('fish' in anims)  # prints \"False\"\n",
        "anims.add('fish')       # Add an element to a set\n",
        "print('fish' in anims)  # Prints \"True\"\n",
        "print(len(anims))       # Number of elements in a set; prints \"3\"\n",
        "anims.add('cat')        # Adding an element that is already in the set does nothing\n",
        "print(len(anims))       # Prints \"3\"\n",
        "anims.remove('cat')     # Remove an element from a set\n",
        "print(len(anims))       # Prints \"2\"\n"
      ],
      "execution_count": 0,
      "outputs": [
        {
          "output_type": "stream",
          "text": [
            "True\n",
            "False\n",
            "True\n",
            "3\n",
            "3\n",
            "2\n"
          ],
          "name": "stdout"
        }
      ]
    },
    {
      "cell_type": "code",
      "metadata": {
        "id": "ksfPHoPZAbXF",
        "colab_type": "code",
        "outputId": "4c1a77da-ee4a-42c8-9a8a-e82433065398",
        "colab": {
          "base_uri": "https://localhost:8080/",
          "height": 68
        }
      },
      "source": [
        "anims = {'cat', 'dog', 'fish'}\n",
        "for index, anim in enumerate(anims):\n",
        "    print('#%d: %s' % (index + 1, anim))\n",
        "# Prints \"#1: fish\", \"#2: dog\", \"#3: cat\"\n"
      ],
      "execution_count": 0,
      "outputs": [
        {
          "output_type": "stream",
          "text": [
            "#1: dog\n",
            "#2: fish\n",
            "#3: cat\n"
          ],
          "name": "stdout"
        }
      ]
    },
    {
      "cell_type": "code",
      "metadata": {
        "id": "NK7dQNv5Aw2F",
        "colab_type": "code",
        "outputId": "d46a1f3c-91ed-47e6-be92-58261a5045dc",
        "colab": {
          "base_uri": "https://localhost:8080/",
          "height": 34
        }
      },
      "source": [
        "from math import sqrt\n",
        "nos = {int(sqrt(z)) for z in range(30)}\n",
        "print(nos)  # Prints \"{0, 1, 2, 3, 4, 5}\"\n"
      ],
      "execution_count": 0,
      "outputs": [
        {
          "output_type": "stream",
          "text": [
            "{0, 1, 2, 3, 4, 5}\n"
          ],
          "name": "stdout"
        }
      ]
    },
    {
      "cell_type": "code",
      "metadata": {
        "id": "OLf0CPgcBghF",
        "colab_type": "code",
        "outputId": "8346f4bc-a7e5-4475-b3b5-e86147cec0fc",
        "colab": {
          "base_uri": "https://localhost:8080/",
          "height": 68
        }
      },
      "source": [
        "dict = {(xindex, xindex + 1): xindex for xindex in range(10)}  # Create a dictionary with tuple keys\n",
        "tuple = (5, 6)        # Create a tuple\n",
        "print(type(tuple))    # Prints \"<class 'tuple'>\"\n",
        "print(dict[tuple])       # Prints \"5\"\n",
        "print(dict[(1, 2)])  # Prints \"1\""
      ],
      "execution_count": 0,
      "outputs": [
        {
          "output_type": "stream",
          "text": [
            "<class 'tuple'>\n",
            "5\n",
            "1\n"
          ],
          "name": "stdout"
        }
      ]
    },
    {
      "cell_type": "code",
      "metadata": {
        "id": "05hrdq_KA0n1",
        "colab_type": "code",
        "outputId": "fb52efdc-0de0-40ec-d20e-56a50b97a3bf",
        "colab": {
          "base_uri": "https://localhost:8080/",
          "height": 68
        }
      },
      "source": [
        "def sign(num):\n",
        "    if num > 0:\n",
        "        return 'positive'\n",
        "    elif num < 0:\n",
        "        return 'negative'\n",
        "    else:\n",
        "        return 'zero'\n",
        "\n",
        "for testNo in [-1, 0, 1]:\n",
        "    print(sign(testNo))\n",
        "# Prints \"negative\", \"zero\", \"positive\"\n"
      ],
      "execution_count": 0,
      "outputs": [
        {
          "output_type": "stream",
          "text": [
            "negative\n",
            "zero\n",
            "positive\n"
          ],
          "name": "stdout"
        }
      ]
    },
    {
      "cell_type": "code",
      "metadata": {
        "id": "cdtgxkYkA2p9",
        "colab_type": "code",
        "outputId": "7559955a-f185-4115-8a8d-d4c2bc041a69",
        "colab": {
          "base_uri": "https://localhost:8080/",
          "height": 68
        }
      },
      "source": [
        "def sign(num):\n",
        "    if num > 0:\n",
        "        return 'positive'\n",
        "    elif num < 0:\n",
        "        return 'negative'\n",
        "    else:\n",
        "        return 'zero'\n",
        "\n",
        "for testNo in [-1, 0, 1]:\n",
        "    print(sign(testNo))\n",
        "# Prints \"negative\", \"zero\", \"positive\"\n"
      ],
      "execution_count": 0,
      "outputs": [
        {
          "output_type": "stream",
          "text": [
            "negative\n",
            "zero\n",
            "positive\n"
          ],
          "name": "stdout"
        }
      ]
    },
    {
      "cell_type": "code",
      "metadata": {
        "id": "tViFYXkWA-Sy",
        "colab_type": "code",
        "outputId": "b3a89098-fd43-4f0b-8908-f6820c7c7053",
        "colab": {
          "base_uri": "https://localhost:8080/",
          "height": 68
        }
      },
      "source": [
        "def sign(num):\n",
        "    if num > 0:\n",
        "        return 'positive'\n",
        "    elif num < 0:\n",
        "        return 'negative'\n",
        "    else:\n",
        "        return 'zero'\n",
        "\n",
        "for testNo in [-1, 0, 1]:\n",
        "    print(sign(testNo))\n",
        "# Prints \"negative\", \"zero\", \"positive\"\n"
      ],
      "execution_count": 0,
      "outputs": [
        {
          "output_type": "stream",
          "text": [
            "negative\n",
            "zero\n",
            "positive\n"
          ],
          "name": "stdout"
        }
      ]
    },
    {
      "cell_type": "code",
      "metadata": {
        "id": "e3zB3IYJBCO9",
        "colab_type": "code",
        "outputId": "27b55488-7980-4edd-e181-a388d300a2ee",
        "colab": {
          "base_uri": "https://localhost:8080/",
          "height": 51
        }
      },
      "source": [
        "def hello(nam, flag=False):\n",
        "    if flag:\n",
        "        print('HELLO, %s!' % nam.upper())\n",
        "    else:\n",
        "        print('Hello, %s' % nam)\n",
        "\n",
        "hello('Bobby') # Prints \"Hello, Bobby\"\n",
        "hello('Fredrick', flag=True)  # Prints \"HELLO, FREDRICK!\""
      ],
      "execution_count": 0,
      "outputs": [
        {
          "output_type": "stream",
          "text": [
            "Hello, Bobby\n",
            "HELLO, FREDRICK!\n"
          ],
          "name": "stdout"
        }
      ]
    },
    {
      "cell_type": "code",
      "metadata": {
        "id": "gj7s8mvNCbW1",
        "colab_type": "code",
        "outputId": "a42fba92-9ea2-40e6-c241-a844de5beb5c",
        "colab": {
          "base_uri": "https://localhost:8080/",
          "height": 51
        }
      },
      "source": [
        "class Greetings(object):\n",
        "\n",
        "    # Constructor\n",
        "    def __init__(self, nam):\n",
        "        self.nam = nam  # Create an instance variable\n",
        "\n",
        "    # Instance method\n",
        "    def greetFuncn(self, flag=False):\n",
        "        if flag:\n",
        "            print('HELLO, %s!' % self.nam.upper())\n",
        "        else:\n",
        "            print('Hello, %s' % self.nam)\n",
        "\n",
        "g = Greetings('Fredrick')  # Construct an instance of the Greeter class\n",
        "g.greetFuncn()            # Call an instance method; prints \"Hello, Fredrick\"\n",
        "g.greetFuncn(flag=True)   # Call an instance method; prints \"HELLO, FREDRICK!\""
      ],
      "execution_count": 0,
      "outputs": [
        {
          "output_type": "stream",
          "text": [
            "Hello, Fredrick\n",
            "HELLO, FREDRICK!\n"
          ],
          "name": "stdout"
        }
      ]
    },
    {
      "cell_type": "code",
      "metadata": {
        "id": "nSYDcoHIDJH1",
        "colab_type": "code",
        "outputId": "7bf5d3e8-b4c9-4778-c1cd-2d39d7074284",
        "colab": {
          "base_uri": "https://localhost:8080/",
          "height": 119
        }
      },
      "source": [
        "import numpy as np\n",
        "\n",
        "a_var = np.array([1, 2, 3])   # Create a rank 1 array\n",
        "print(type(a_var))            # Prints \"<class 'numpy.ndarray'>\"\n",
        "print(a_var.shape)            # Prints \"(3,)\"\n",
        "print(a_var[0], a_var[1], a_var[2])   # Prints \"1 2 3\"\n",
        "a_var[0] = 5                  # Change an element of the array\n",
        "print(a_var)                  # Prints \"[5, 2, 3]\"\n",
        "\n",
        "b_var = np.array([[1,2,3],[4,5,6]])    # Create a rank 2 array\n",
        "print(b_var.shape)                     # Prints \"(2, 3)\"\n",
        "print(b_var[0, 0], b_var[0, 1], b_var[1, 0])   # Prints \"1 2 4\"\n"
      ],
      "execution_count": 0,
      "outputs": [
        {
          "output_type": "stream",
          "text": [
            "<class 'numpy.ndarray'>\n",
            "(3,)\n",
            "1 2 3\n",
            "[5 2 3]\n",
            "(2, 3)\n",
            "1 2 4\n"
          ],
          "name": "stdout"
        }
      ]
    },
    {
      "cell_type": "code",
      "metadata": {
        "id": "Nb5MkhoKDMXd",
        "colab_type": "code",
        "outputId": "01000f4f-5aa7-4365-c690-811a8872e35a",
        "colab": {
          "base_uri": "https://localhost:8080/",
          "height": 170
        }
      },
      "source": [
        "\n",
        "import numpy as np\n",
        "\n",
        "a_withZeroes = np.zeros((2,2))   # Create an array of all zeros\n",
        "print(a_withZeroes)              # Prints \"[[ 0.  0.]\n",
        "                      #          [ 0.  0.]]\"\n",
        "\n",
        "b_withOnes = np.ones((1,2))    # Create an array of all ones\n",
        "print(b_withOnes)              # Prints \"[[ 1.  1.]]\"\n",
        "\n",
        "c_withConst = np.full((2,2), 7)  # Create a constant array\n",
        "print(c_withConst)               # Prints \"[[ 7.  7.]\n",
        "                       #          [ 7.  7.]]\"\n",
        "\n",
        "d_identity = np.eye(2)         # Create a 2x2 identity matrix\n",
        "print(d_identity)              # Prints \"[[ 1.  0.]\n",
        "                      #          [ 0.  1.]]\"\n",
        "\n",
        "e_random = np.random.random((2,2))  # Create an array filled with random values\n",
        "print(e_random)                     # Might print \"[[ 0.91940167  0.08143941]\n",
        "                             #               [ 0.68744134  0.87236687]]\"\n"
      ],
      "execution_count": 0,
      "outputs": [
        {
          "output_type": "stream",
          "text": [
            "[[0. 0.]\n",
            " [0. 0.]]\n",
            "[[1. 1.]]\n",
            "[[7 7]\n",
            " [7 7]]\n",
            "[[1. 0.]\n",
            " [0. 1.]]\n",
            "[[0.18929223 0.72030095]\n",
            " [0.02930146 0.77138938]]\n"
          ],
          "name": "stdout"
        }
      ]
    },
    {
      "cell_type": "code",
      "metadata": {
        "id": "YPqTWQkcC3SV",
        "colab_type": "code",
        "outputId": "3a7001d8-32f5-4c4f-a438-99f659bdb72e",
        "colab": {
          "base_uri": "https://localhost:8080/",
          "height": 51
        }
      },
      "source": [
        "import numpy as np\n",
        "\n",
        "# Create the following rank 2 array with shape (3, 4)\n",
        "# [[ 1  2  3  4]\n",
        "#  [ 5  6  7  8]\n",
        "#  [ 9 10 11 12]]\n",
        "a_slice = np.array([[1,2,3,4], [5,6,7,8], [9,10,11,12]])\n",
        "\n",
        "# Use slicing to pull out the subarray consisting of the first 2 rows\n",
        "# and columns 1 and 2; b is the following array of shape (2, 2):\n",
        "# [[2 3]\n",
        "#  [6 7]]\n",
        "b_slice = a_slice[:2, 1:3]\n",
        "\n",
        "# A slice of an array is a view into the same data, so modifying it\n",
        "# will modify the original array.\n",
        "print(a_slice[0, 1])   # Prints \"2\"\n",
        "b_slice[0, 0] = 77     # b[0, 0] is the same piece of data as a[0, 1]\n",
        "print(a_slice[0, 1])   # Prints \"77\"\n"
      ],
      "execution_count": 0,
      "outputs": [
        {
          "output_type": "stream",
          "text": [
            "2\n",
            "77\n"
          ],
          "name": "stdout"
        }
      ]
    },
    {
      "cell_type": "code",
      "metadata": {
        "id": "l0EUogp6D66l",
        "colab_type": "code",
        "outputId": "09a5b006-15af-49cb-f5b5-cc0a8688d602",
        "colab": {
          "base_uri": "https://localhost:8080/",
          "height": 119
        }
      },
      "source": [
        "import numpy as np\n",
        "\n",
        "# Create the following rank 2 array with shape (3, 4)\n",
        "# [[ 1  2  3  4]\n",
        "#  [ 5  6  7  8]\n",
        "#  [ 9 10 11 12]]\n",
        "a_rankTest = np.array([[1,2,3,4], [5,6,7,8], [9,10,11,12]])\n",
        "\n",
        "# Two ways of accessing the data in the middle row of the array.\n",
        "# Mixing integer indexing with slices yields an array of lower rank,\n",
        "# while using only slices yields an array of the same rank as the\n",
        "# original array:\n",
        "row_rank1 = a_rankTest[1, :]    # Rank 1 view of the second row of a\n",
        "row_rank2 = a_rankTest[1:2, :]  # Rank 2 view of the second row of a\n",
        "print(row_rank1, row_rank1.shape)  # Prints \"[5 6 7 8] (4,)\"\n",
        "print(row_rank2, row_rank2.shape)  # Prints \"[[5 6 7 8]] (1, 4)\"\n",
        "\n",
        "# We can make the same distinction when accessing columns of an array:\n",
        "col_rank1 = a_rankTest[:, 1]\n",
        "col_rank2 = a_rankTest[:, 1:2]\n",
        "print(col_rank1, col_rank1.shape)  # Prints \"[ 2  6 10] (3,)\"\n",
        "print(col_rank2, col_rank2.shape)  # Prints \"[[ 2]\n",
        "                             #          [ 6]\n",
        "                             #          [10]] (3, 1)\"\n"
      ],
      "execution_count": 0,
      "outputs": [
        {
          "output_type": "stream",
          "text": [
            "[5 6 7 8] (4,)\n",
            "[[5 6 7 8]] (1, 4)\n",
            "[ 2  6 10] (3,)\n",
            "[[ 2]\n",
            " [ 6]\n",
            " [10]] (3, 1)\n"
          ],
          "name": "stdout"
        }
      ]
    },
    {
      "cell_type": "code",
      "metadata": {
        "id": "7nduOen5EW5N",
        "colab_type": "code",
        "outputId": "98f504d3-85f8-40ce-9056-d69ff1c8c698",
        "colab": {
          "base_uri": "https://localhost:8080/",
          "height": 85
        }
      },
      "source": [
        "import numpy as np\n",
        "\n",
        "a_indexTest = np.array([[1,2], [3, 4], [5, 6]])\n",
        "\n",
        "# An example of integer array indexing.\n",
        "# The returned array will have shape (3,) and\n",
        "print(a_indexTest[[0, 1, 2], [0, 1, 0]])  # Prints \"[1 4 5]\"\n",
        "\n",
        "# The above example of integer array indexing is equivalent to this:\n",
        "print(np.array([a_indexTest[0, 0], a_indexTest[1, 1], a_indexTest[2, 0]]))  # Prints \"[1 4 5]\"\n",
        "\n",
        "# When using integer array indexing, you can reuse the same\n",
        "# element from the source array:\n",
        "print(a_indexTest[[0, 0], [1, 1]])  # Prints \"[2 2]\"\n",
        "\n",
        "# Equivalent to the previous integer array indexing example\n",
        "print(np.array([a_indexTest[0, 1], a_indexTest[0, 1]]))  # Prints \"[2 2]\"ary arrays using the data from another array.\n"
      ],
      "execution_count": 0,
      "outputs": [
        {
          "output_type": "stream",
          "text": [
            "[1 4 5]\n",
            "[1 4 5]\n",
            "[2 2]\n",
            "[2 2]\n"
          ],
          "name": "stdout"
        }
      ]
    },
    {
      "cell_type": "code",
      "metadata": {
        "id": "RG9yuX-REt31",
        "colab_type": "code",
        "outputId": "ab4aa043-d597-4b7a-de31-a4f45ac2e038",
        "colab": {
          "base_uri": "https://localhost:8080/",
          "height": 170
        }
      },
      "source": [
        "import numpy as np\n",
        "\n",
        "# Create a new array from which we will select elements\n",
        "a_mut = np.array([[1,2,3], [4,5,6], [7,8,9], [10, 11, 12]])\n",
        "\n",
        "print(a_mut)  # prints \"array([[ 1,  2,  3],\n",
        "          #                [ 4,  5,  6],\n",
        "          #                [ 7,  8,  9],\n",
        "          #                [10, 11, 12]])\"\n",
        "\n",
        "# Create an array of indices\n",
        "b_index = np.array([0, 2, 0, 1])\n",
        "\n",
        "# Select one element from each row of a using the indices in b\n",
        "print(a_mut[np.arange(4), b_index])  # Prints \"[ 1  6  7 11]\"\n",
        "\n",
        "# Mutate one element from each row of a using the indices in b\n",
        "a_mut[np.arange(4), b_index] += 10\n",
        "\n",
        "print(a_mut)  # prints \"array([[11,  2,  3],\n",
        "          #                [ 4,  5, 16],\n",
        "          #                [17,  8,  9],\n",
        "          #                [10, 21, 12]])\n",
        "\n"
      ],
      "execution_count": 0,
      "outputs": [
        {
          "output_type": "stream",
          "text": [
            "[[ 1  2  3]\n",
            " [ 4  5  6]\n",
            " [ 7  8  9]\n",
            " [10 11 12]]\n",
            "[ 1  6  7 11]\n",
            "[[11  2  3]\n",
            " [ 4  5 16]\n",
            " [17  8  9]\n",
            " [10 21 12]]\n"
          ],
          "name": "stdout"
        }
      ]
    },
    {
      "cell_type": "code",
      "metadata": {
        "id": "U_cLGZ5OE5c8",
        "colab_type": "code",
        "outputId": "de50a280-f876-40b8-d191-e35c5a5c3a50",
        "colab": {
          "base_uri": "https://localhost:8080/",
          "height": 102
        }
      },
      "source": [
        "import numpy as np\n",
        "\n",
        "a_result = np.array([[1,2], [3, 4], [5, 6]])\n",
        "\n",
        "boolean_index = (a_result > 2)   # Find the elements of a that are bigger than 2;\n",
        "                     # this returns a numpy array of Booleans of the same\n",
        "                     # shape as a, where each slot of bool_idx tells\n",
        "                     # whether that element of a is > 2.\n",
        "\n",
        "print(boolean_index)      # Prints \"[[False False]\n",
        "                     #          [ True  True]\n",
        "                     #          [ True  True]]\"\n",
        "\n",
        "# We use boolean array indexing to construct a rank 1 array\n",
        "# consisting of the elements of a corresponding to the True values\n",
        "# of bool_idx\n",
        "print(a_result[boolean_index])  # Prints \"[3 4 5 6]\"\n",
        "\n",
        "# We can do all of the above in a single concise statement:\n",
        "print(a_result[a_result > 2])     # Prints \"[3 4 5 6]\"\n"
      ],
      "execution_count": 0,
      "outputs": [
        {
          "output_type": "stream",
          "text": [
            "[[False False]\n",
            " [ True  True]\n",
            " [ True  True]]\n",
            "[3 4 5 6]\n",
            "[3 4 5 6]\n"
          ],
          "name": "stdout"
        }
      ]
    },
    {
      "cell_type": "code",
      "metadata": {
        "id": "cUeWCDK7FK1E",
        "colab_type": "code",
        "outputId": "29b6d969-0b0f-4da9-80fe-740ee365f822",
        "colab": {
          "base_uri": "https://localhost:8080/",
          "height": 68
        }
      },
      "source": [
        "import numpy as np\n",
        "\n",
        "x_int = np.array([1, 2])   # Let numpy choose the datatype\n",
        "print(x_int.dtype)         # Prints \"int64\"\n",
        "\n",
        "x_float = np.array([1.0, 2.0])   # Let numpy choose the datatype\n",
        "print(x_float.dtype)             # Prints \"float64\"\n",
        "\n",
        "x_cast = np.array([1, 2], dtype=np.int64)   # Force a particular datatype\n",
        "print(x_cast.dtype)    \n"
      ],
      "execution_count": 0,
      "outputs": [
        {
          "output_type": "stream",
          "text": [
            "int64\n",
            "float64\n",
            "int64\n"
          ],
          "name": "stdout"
        }
      ]
    },
    {
      "cell_type": "code",
      "metadata": {
        "id": "9mcYUbgRFUf1",
        "colab_type": "code",
        "outputId": "0861a6e0-31d0-4a17-961e-c76637f28695",
        "colab": {
          "base_uri": "https://localhost:8080/",
          "height": 306
        }
      },
      "source": [
        "import numpy as np\n",
        "\n",
        "x_src = np.array([[1,2],[3,4]], dtype=np.float64)\n",
        "y_src = np.array([[5,6],[7,8]], dtype=np.float64)\n",
        "\n",
        "# Elementwise sum; both produce the array\n",
        "# [[ 6.0  8.0]\n",
        "#  [10.0 12.0]]\n",
        "print(x_src, y_src)\n",
        "\n",
        "# Elementwise difference; both produce the array\n",
        "# [[-4.0 -4.0]\n",
        "#  [-4.0 -4.0]]\n",
        "print(x_src - y_src)\n",
        "print(np.subtract(x_src, y_src))\n",
        "\n",
        "# Elementwise product; both produce the array\n",
        "# [[ 5.0 12.0]\n",
        "#  [21.0 32.0]]\n",
        "print(x_src * y_src)\n",
        "print(np.multiply(x_src, y_src))\n",
        "\n",
        "# Elementwise division; both produce the array\n",
        "# [[ 0.2         0.33333333]\n",
        "#  [ 0.42857143  0.5       ]]\n",
        "print(x_src / y_src)\n",
        "print(np.divide(x_src, y_src))\n",
        "\n",
        "# Elementwise square root; produces the array\n",
        "# [[ 1.          1.41421356]\n",
        "#  [ 1.73205081  2.        ]]\n",
        "print(np.sqrt(x_src))\n"
      ],
      "execution_count": 0,
      "outputs": [
        {
          "output_type": "stream",
          "text": [
            "[[1. 2.]\n",
            " [3. 4.]] [[5. 6.]\n",
            " [7. 8.]]\n",
            "[[-4. -4.]\n",
            " [-4. -4.]]\n",
            "[[-4. -4.]\n",
            " [-4. -4.]]\n",
            "[[ 5. 12.]\n",
            " [21. 32.]]\n",
            "[[ 5. 12.]\n",
            " [21. 32.]]\n",
            "[[0.2        0.33333333]\n",
            " [0.42857143 0.5       ]]\n",
            "[[0.2        0.33333333]\n",
            " [0.42857143 0.5       ]]\n",
            "[[1.         1.41421356]\n",
            " [1.73205081 2.        ]]\n"
          ],
          "name": "stdout"
        }
      ]
    },
    {
      "cell_type": "code",
      "metadata": {
        "id": "doqXnjAOFlXt",
        "colab_type": "code",
        "outputId": "2b75d316-e065-4d58-deee-d0954399da68",
        "colab": {
          "base_uri": "https://localhost:8080/",
          "height": 153
        }
      },
      "source": [
        "import numpy as np\n",
        "\n",
        "x_rank2 = np.array([[1,2],[3,4]])\n",
        "y_rank2 = np.array([[5,6],[7,8]])\n",
        "\n",
        "v_rank1 = np.array([9,10])\n",
        "w_rank1 = np.array([11, 12])\n",
        "\n",
        "# Inner product of vectors; both produce 219\n",
        "print(v_rank1.dot(w_rank1))\n",
        "print(np.dot(v_rank1, w_rank1))\n",
        "\n",
        "# Rank 1 Matrix / vector product; both produce the rank 1 array [29 67]\n",
        "print(x_rank2.dot(v_rank1))\n",
        "print(np.dot(x_rank2, v_rank1))\n",
        "\n",
        "#Rank 2 Matrix / matrix product; both produce the rank 2 array\n",
        "# [[19 22]\n",
        "#  [43 50]]\n",
        "print(x_rank2.dot(y_rank2))\n",
        "print(np.dot(x_rank2,y_rank2))\n"
      ],
      "execution_count": 0,
      "outputs": [
        {
          "output_type": "stream",
          "text": [
            "219\n",
            "219\n",
            "[29 67]\n",
            "[29 67]\n",
            "[[19 22]\n",
            " [43 50]]\n",
            "[[19 22]\n",
            " [43 50]]\n"
          ],
          "name": "stdout"
        }
      ]
    },
    {
      "cell_type": "code",
      "metadata": {
        "id": "lBp5u-hJF0OU",
        "colab_type": "code",
        "outputId": "20cd7305-56ed-4adb-e050-df6bc0c9d038",
        "colab": {
          "base_uri": "https://localhost:8080/",
          "height": 68
        }
      },
      "source": [
        "import numpy as np\n",
        "\n",
        "x_sumElements = np.array([[1,2],[3,4]])\n",
        "\n",
        "print(np.sum(x_sumElements))  # Compute sum of all elements; prints \"10\"\n",
        "print(np.sum(x_sumElements, axis=0))  # Compute sum of each column; prints \"[4 6]\"\n",
        "print(np.sum(x_sumElements, axis=1))  # Compute sum of each row; prints \"[3 7]\"\n"
      ],
      "execution_count": 0,
      "outputs": [
        {
          "output_type": "stream",
          "text": [
            "10\n",
            "[4 6]\n",
            "[3 7]\n"
          ],
          "name": "stdout"
        }
      ]
    },
    {
      "cell_type": "code",
      "metadata": {
        "id": "S61t9IsLF0mt",
        "colab_type": "code",
        "outputId": "a729cec8-809b-43a1-d76e-9b9432bfd2e3",
        "colab": {
          "base_uri": "https://localhost:8080/",
          "height": 119
        }
      },
      "source": [
        "import numpy as np\n",
        "\n",
        "x_testTranspose = np.array([[1,2], [3,4]])\n",
        "print(x_testTranspose)    # Prints \"[[1 2]\n",
        "            #          [3 4]]\"\n",
        "print(x_testTranspose.T)  # Prints \"[[1 3]\n",
        "            #          [2 4]]\"\n",
        "\n",
        "# Note that taking the transpose of a rank 1 array does nothing:\n",
        "v_testTranspose = np.array([1,2,3])\n",
        "print(v_testTranspose)    # Prints \"[1 2 3]\"\n",
        "print(v_testTranspose.T)  # Prints \"[1 2 3]\"\n"
      ],
      "execution_count": 0,
      "outputs": [
        {
          "output_type": "stream",
          "text": [
            "[[1 2]\n",
            " [3 4]]\n",
            "[[1 3]\n",
            " [2 4]]\n",
            "[1 2 3]\n",
            "[1 2 3]\n"
          ],
          "name": "stdout"
        }
      ]
    },
    {
      "cell_type": "code",
      "metadata": {
        "id": "p7EZmdJSGCn8",
        "colab_type": "code",
        "outputId": "77be31af-0e53-4d7c-e6ed-ef72fdd84c0b",
        "colab": {
          "base_uri": "https://localhost:8080/",
          "height": 85
        }
      },
      "source": [
        "import numpy as np\n",
        "\n",
        "# We will add the vector  to each row of the matrix src_ x,\n",
        "# storing the result in the matrix src_y\n",
        "src_X = np.array([[1,2,3], [4,5,6], [7,8,9], [10, 11, 12]])\n",
        "vector = np.array([777, 55, 777])\n",
        "src_Y = np.empty_like(src_X)   # Create an empty matrix with the same shape as src_x\n",
        "\n",
        "# Add the vector  to each row of the matrix src_X with an explicit loop\n",
        "for i in range(4):\n",
        "    src_Y[i, :] = src_X[i, :] + vector\n",
        "\n",
        "# Now src_Y is the following\n",
        "#[[778  57 780]\n",
        "# [781  60 783]\n",
        "# [784  63 786]\n",
        "# [787  66 789]]\n",
        "print(src_Y)\n"
      ],
      "execution_count": 0,
      "outputs": [
        {
          "output_type": "stream",
          "text": [
            "[[778  57 780]\n",
            " [781  60 783]\n",
            " [784  63 786]\n",
            " [787  66 789]]\n"
          ],
          "name": "stdout"
        }
      ]
    },
    {
      "cell_type": "code",
      "metadata": {
        "id": "quJKAmW9GDMM",
        "colab_type": "code",
        "outputId": "a36e4655-5616-415f-a883-3e867db5a2db",
        "colab": {
          "base_uri": "https://localhost:8080/",
          "height": 153
        }
      },
      "source": [
        "import numpy as np\n",
        "\n",
        "# We will add the vector tileV to each row of the matrix tile_x,\n",
        "# storing the result in the matrix tile_y\n",
        "tile_x = np.array([[1,2,3], [4,5,6], [7,8,9], [10, 11, 12]])\n",
        "tile_v = np.array([777, 55, 777])\n",
        "tileVector = np.tile(tile_v, (4, 1))   # Stack 4 copies of tile_v on top of each other\n",
        "print(tileVector)                 # Prints \"[[777, 55, 777]\n",
        "                          #          [777, 55, 777]\n",
        "                          #          [777, 55, 777]\n",
        "                          #          [777, 55, 777]”\n",
        "tile_y = tile_x + tileVector  # Add tile_x and tileVector elementwise\n",
        "print(tile_y)  # Prints \" #[[778  57 780]\n",
        "# [781  60 783]\n",
        "# [784  63 786]\n",
        "# [787  66 789]]”\n"
      ],
      "execution_count": 0,
      "outputs": [
        {
          "output_type": "stream",
          "text": [
            "[[777  55 777]\n",
            " [777  55 777]\n",
            " [777  55 777]\n",
            " [777  55 777]]\n",
            "[[778  57 780]\n",
            " [781  60 783]\n",
            " [784  63 786]\n",
            " [787  66 789]]\n"
          ],
          "name": "stdout"
        }
      ]
    },
    {
      "cell_type": "code",
      "metadata": {
        "id": "MZ4A4vkeGDds",
        "colab_type": "code",
        "outputId": "03d7019c-10a5-4c57-8bd0-8671530209ec",
        "colab": {
          "base_uri": "https://localhost:8080/",
          "height": 85
        }
      },
      "source": [
        "import numpy as np\n",
        "\n",
        "# We will add the vector v to each row of the matrix x,\n",
        "# storing the result in the matrix y\n",
        "broad_x = np.array([[1,2,3], [4,5,6], [7,8,9], [10, 11, 12]])\n",
        "cast_v = np.array([777, 55, 777])\n",
        "broad_y = broad_x + cast_v  # Add cast_v to each row of broad_x using broadcasting\n",
        "print(broad_y)  # Prints \" #[[778  57 780]\n",
        "# [781  60 783]\n",
        "# [784  63 786]\n",
        "# [787  66 789]]”\n"
      ],
      "execution_count": 0,
      "outputs": [
        {
          "output_type": "stream",
          "text": [
            "[[778  57 780]\n",
            " [781  60 783]\n",
            " [784  63 786]\n",
            " [787  66 789]]\n"
          ],
          "name": "stdout"
        }
      ]
    },
    {
      "cell_type": "code",
      "metadata": {
        "id": "4nNVj0mmGD1s",
        "colab_type": "code",
        "outputId": "e78e43c5-18a4-4d98-93dd-331eaf8626ed",
        "colab": {
          "base_uri": "https://localhost:8080/",
          "height": 204
        }
      },
      "source": [
        "import numpy as np\n",
        "\n",
        "# Compute outer product of vectors\n",
        "vector = np.array([1,2,3])  # vector has shape (3,)\n",
        "weight = np.array([4,5])    # weight has shape (2,)\n",
        "# To compute an outer product, we first reshape v to be a column\n",
        "# vector of shape (3, 1); we can then broadcast it against weight  to yield\n",
        "# an output of shape (3, 2), which is the outer product of vector and weight:\n",
        "# [[ 4  5]\n",
        "#  [ 8 10]\n",
        "#  [12 15]]\n",
        "print(np.reshape(vector, (3, 1)) * weight)\n",
        "\n",
        "# Add a vector to each row of a matrix\n",
        "x_shape = np.array([[1,2,3], [4,5,6]])\n",
        "# x has shape (2, 3) and v has shape (3,) so they broadcast to (2, 3),\n",
        "# giving the following matrix:\n",
        "# [[2 4 6]\n",
        "#  [5 7 9]]\n",
        "print(x_shape + vector)\n",
        "\n",
        "# Add a vector to each column of a matrix\n",
        "# x_shape has shape (2, 3) and weight has shape (2,).\n",
        "# If we transpose x_shape then it has shape (3, 2) and can be broadcast\n",
        "# against weight to yield a result of shape (3, 2); transposing this result\n",
        "# yields the final result of shape (2, 3) which is the matrix x_shape with\n",
        "# the vector weight added to each column. Gives the following matrix:\n",
        "# [[ 5  6  7]\n",
        "#  [ 9 10 11]]\n",
        "print((x_shape.T + weight).T)\n",
        "# Another solution is to reshape w to be a column vector of shape (2, 1);\n",
        "# we can then broadcast it directly against x_shape to produce the same\n",
        "# output.\n",
        "print(x_shape + np.reshape(weight, (2, 1)))\n",
        "\n",
        "# Multiply a matrix by a constant:\n",
        "# x_shape has shape (2, 3). Numpy treats scalars as arrays of shape ();\n",
        "# these can be broadcast together to shape (2, 3), producing the\n",
        "# following array:\n",
        "# [[ 2  4  6]\n",
        "#  [ 8 10 12]]\n",
        "print(x_shape * 2)\n"
      ],
      "execution_count": 0,
      "outputs": [
        {
          "output_type": "stream",
          "text": [
            "[[ 4  5]\n",
            " [ 8 10]\n",
            " [12 15]]\n",
            "[[2 4 6]\n",
            " [5 7 9]]\n",
            "[[ 5  6  7]\n",
            " [ 9 10 11]]\n",
            "[[ 5  6  7]\n",
            " [ 9 10 11]]\n",
            "[[ 2  4  6]\n",
            " [ 8 10 12]]\n"
          ],
          "name": "stdout"
        }
      ]
    },
    {
      "cell_type": "code",
      "metadata": {
        "id": "lWAIV1oNG1Tl",
        "colab_type": "code",
        "outputId": "d7abc676-b8e8-404b-f722-ffdc7d557317",
        "colab": {
          "base_uri": "https://localhost:8080/",
          "height": 122
        }
      },
      "source": [
        "from scipy.misc import imread, imsave, imresize\n",
        "\n",
        "# Read an JPEG image into a numpy array\n",
        "koalaImg = imread('blueRose.jpg')\n",
        "print(koalaImg.dtype, koalaImg.shape)  # Prints \"uint8 (400, 248, 3)\"\n",
        "\n",
        "# We can tint the image by scaling each of the color channels\n",
        "# by a different scalar constant. The image has shape (400, 248, 3);\n",
        "# we multiply it by the array [1, 0.95, 0.9] of shape (3,);\n",
        "# numpy broadcasting means that this leaves the red channel unchanged,\n",
        "# and multiplies the green and blue channels by 0.95 and 0.9\n",
        "# respectively.\n",
        "koalaimg_tinted = koalaImg * [1, 0.95, 0.9]\n",
        "\n",
        "# Resize the tinted image to be 300 by 300 pixels.\n",
        "koalaimg_tinted = imresize(koalaimg_tinted, (300, 300))\n",
        "\n",
        "# Write the tinted image back to disk\n",
        "imsave('blueRosetint.jpg', koalaimg_tinted)\n",
        "\n"
      ],
      "execution_count": 0,
      "outputs": [
        {
          "output_type": "stream",
          "text": [
            "uint8 (3264, 4928, 3)\n"
          ],
          "name": "stdout"
        },
        {
          "output_type": "stream",
          "text": [
            "/usr/local/lib/python3.6/dist-packages/scipy/misc/pilutil.py:482: FutureWarning: Conversion of the second argument of issubdtype from `int` to `np.signedinteger` is deprecated. In future, it will be treated as `np.int64 == np.dtype(int).type`.\n",
            "  if issubdtype(ts, int):\n",
            "/usr/local/lib/python3.6/dist-packages/scipy/misc/pilutil.py:485: FutureWarning: Conversion of the second argument of issubdtype from `float` to `np.floating` is deprecated. In future, it will be treated as `np.float64 == np.dtype(float).type`.\n",
            "  elif issubdtype(type(size), float):\n"
          ],
          "name": "stderr"
        }
      ]
    },
    {
      "cell_type": "code",
      "metadata": {
        "id": "P2fb1lr-R8ZV",
        "colab_type": "code",
        "outputId": "5291787d-8ad9-44af-9b85-f53c1e7111ea",
        "colab": {
          "base_uri": "https://localhost:8080/",
          "height": 153
        }
      },
      "source": [
        "ls"
      ],
      "execution_count": 0,
      "outputs": [
        {
          "output_type": "stream",
          "text": [
            "blueRose.jpg\n",
            "blueRosetint.jpg\n",
            "imgres?imgurl=https:%2F%2Fimages.pexels.com%2Fphotos%2F67636%2Frose-blue-flower-rose-blooms-67636.jpeg?auto%3Dcompress%26cs%3Dtinysrgb%26h%3D350\n",
            "imgres?imgurl=https:%2F%2Fimages.pexels.com%2Fphotos%2F67636%2Frose-blue-flower-rose-blooms-67636.jpeg?auto%3Dcompress%26cs%3Dtinysrgb%26h%3D350.1\n",
            "imgres?imgurl=https:%2F%2Fimages.pexels.com%2Fphotos%2F67636%2Frose-blue-flower-rose-blooms-67636.jpeg?auto%3Dcompress%26cs%3Dtinysrgb%26h%3D350.2\n",
            "Koala.jpg\n",
            "\u001b[0m\u001b[01;34msample_data\u001b[0m/\n",
            "TajMahal.jpg\n"
          ],
          "name": "stdout"
        }
      ]
    },
    {
      "cell_type": "code",
      "metadata": {
        "id": "u5BalqVCG6SH",
        "colab_type": "code",
        "outputId": "eeaade9d-4380-424f-8b04-a2e452c732a2",
        "colab": {
          "base_uri": "https://localhost:8080/",
          "height": 119
        }
      },
      "source": [
        "import numpy as np\n",
        "from scipy.spatial.distance import pdist, squareform\n",
        "\n",
        "# Create the following array where each row is a point in 2D space:\n",
        "# [[0 1] changed as [4 1]\n",
        "#  [1 0] changed as [5 2]\n",
        "#  [2 0]] changed as [ 6 3]\n",
        "#testMatrix = np.array([[0, 1], [1, 0], [2, 0]])\n",
        "testMatrix = np.array([[4, 2], [5, 2], [6, 3]])\n",
        "print(testMatrix)\n",
        "# Compute the Euclidean distance between all rows of x.\n",
        "# d[i, j] is the Euclidean distance between x[i, :] and x[j, :],\n",
        "# and d is the following array:\n",
        "# [[ 0.    1.41421356  2.23606798]   changed as             [[0.         1.                              2.23606798]\n",
        "# [ 1.41421356  0.          1.        ]         changed as             [1.         0.                              1.41421356]\n",
        "#  [ 2.23606798  1.          0.        ]]     changed as              [2.23606798   1.41421356  0.                 ]]\n",
        "euclid_Dist = squareform(pdist(testMatrix, 'euclidean'))\n",
        "print(euclid_Dist)\n"
      ],
      "execution_count": 0,
      "outputs": [
        {
          "output_type": "stream",
          "text": [
            "[[4 2]\n",
            " [5 2]\n",
            " [6 3]]\n",
            "[[0.         1.         2.23606798]\n",
            " [1.         0.         1.41421356]\n",
            " [2.23606798 1.41421356 0.        ]]\n"
          ],
          "name": "stdout"
        }
      ]
    },
    {
      "cell_type": "code",
      "metadata": {
        "id": "AqOYyTJiHEvt",
        "colab_type": "code",
        "outputId": "daf7527d-1360-4880-b30a-ad3a3593f869",
        "colab": {
          "base_uri": "https://localhost:8080/",
          "height": 704
        }
      },
      "source": [
        "import numpy as np\n",
        "import matplotlib.pyplot as plt\n",
        "\n",
        "# Compute the x and y coordinates for points on a sine curve\n",
        "x_deg = np.arange(0, 3 * np.pi, 0.1)\n",
        "y_deg = np.sin(x_deg)\n",
        "print(x_deg,y_deg)\n",
        "\n",
        "# Plot the points using matplotlib\n",
        "plt.plot(x_deg, y_deg)\n",
        "plt.show()  # You must call plt.show() to make graphics appear.\n",
        "\n",
        "\n",
        "\n"
      ],
      "execution_count": 0,
      "outputs": [
        {
          "output_type": "stream",
          "text": [
            "[0.  0.1 0.2 0.3 0.4 0.5 0.6 0.7 0.8 0.9 1.  1.1 1.2 1.3 1.4 1.5 1.6 1.7\n",
            " 1.8 1.9 2.  2.1 2.2 2.3 2.4 2.5 2.6 2.7 2.8 2.9 3.  3.1 3.2 3.3 3.4 3.5\n",
            " 3.6 3.7 3.8 3.9 4.  4.1 4.2 4.3 4.4 4.5 4.6 4.7 4.8 4.9 5.  5.1 5.2 5.3\n",
            " 5.4 5.5 5.6 5.7 5.8 5.9 6.  6.1 6.2 6.3 6.4 6.5 6.6 6.7 6.8 6.9 7.  7.1\n",
            " 7.2 7.3 7.4 7.5 7.6 7.7 7.8 7.9 8.  8.1 8.2 8.3 8.4 8.5 8.6 8.7 8.8 8.9\n",
            " 9.  9.1 9.2 9.3 9.4] [ 0.          0.09983342  0.19866933  0.29552021  0.38941834  0.47942554\n",
            "  0.56464247  0.64421769  0.71735609  0.78332691  0.84147098  0.89120736\n",
            "  0.93203909  0.96355819  0.98544973  0.99749499  0.9995736   0.99166481\n",
            "  0.97384763  0.94630009  0.90929743  0.86320937  0.8084964   0.74570521\n",
            "  0.67546318  0.59847214  0.51550137  0.42737988  0.33498815  0.23924933\n",
            "  0.14112001  0.04158066 -0.05837414 -0.15774569 -0.2555411  -0.35078323\n",
            " -0.44252044 -0.52983614 -0.61185789 -0.68776616 -0.7568025  -0.81827711\n",
            " -0.87157577 -0.91616594 -0.95160207 -0.97753012 -0.993691   -0.99992326\n",
            " -0.99616461 -0.98245261 -0.95892427 -0.92581468 -0.88345466 -0.83226744\n",
            " -0.77276449 -0.70554033 -0.63126664 -0.55068554 -0.46460218 -0.37387666\n",
            " -0.2794155  -0.1821625  -0.0830894   0.0168139   0.1165492   0.21511999\n",
            "  0.31154136  0.40484992  0.49411335  0.57843976  0.6569866   0.72896904\n",
            "  0.79366786  0.85043662  0.8987081   0.93799998  0.96791967  0.98816823\n",
            "  0.99854335  0.99894134  0.98935825  0.96988981  0.94073056  0.90217183\n",
            "  0.85459891  0.79848711  0.7343971   0.66296923  0.58491719  0.50102086\n",
            "  0.41211849  0.31909836  0.22288991  0.12445442  0.02477543]\n"
          ],
          "name": "stdout"
        },
        {
          "output_type": "display_data",
          "data": {
            "image/png": "[encoded data removed]",
            "text/plain": [
              "<matplotlib.figure.Figure at 0x7ff7444f2a20>"
            ]
          },
          "metadata": {
            "tags": []
          }
        }
      ]
    },
    {
      "cell_type": "code",
      "metadata": {
        "id": "0IQvMINMHK0U",
        "colab_type": "code",
        "outputId": "3aa93513-95b7-4552-ced0-288d15e80e5c",
        "colab": {
          "base_uri": "https://localhost:8080/",
          "height": 376
        }
      },
      "source": [
        "#Plot multiple lines at once, and add a title, legend, and axis labels:\n",
        "import numpy as np\n",
        "import matplotlib.pyplot as plt\n",
        "\n",
        "# Compute the x and y coordinates for points on sine and cosine curves\n",
        "testSinCosDeg = np.arange(0, 3 * np.pi, 0.1)\n",
        "test_sin = np.sin(testSinCosDeg)\n",
        "test_cos = np.cos(testSinCosDeg)\n",
        "\n",
        "# Plot the points using matplotlib -> No Sub Plots -> plt.subplot(2, 1, 2)\n",
        "plt.plot(testSinCosDeg, test_sin)\n",
        "plt.plot(testSinCosDeg, test_cos)\n",
        "plt.xlabel('Axis X label')\n",
        "plt.ylabel('Axis Y label')\n",
        "plt.title('Sine Angle & Cosine Angle')\n",
        "plt.legend(['Sine Degrees', 'Cosine Degrees'])\n",
        "plt.show()"
      ],
      "execution_count": 0,
      "outputs": [
        {
          "output_type": "display_data",
          "data": {
            "image/png": "[encoded data removed]",
            "text/plain": [
              "<matplotlib.figure.Figure at 0x7ff74704a2b0>"
            ]
          },
          "metadata": {
            "tags": []
          }
        }
      ]
    },
    {
      "cell_type": "code",
      "metadata": {
        "id": "pZ08Ceu5HmAl",
        "colab_type": "code",
        "outputId": "99d80763-f8f4-4781-f07e-3465e04828ba",
        "colab": {
          "base_uri": "https://localhost:8080/",
          "height": 513
        }
      },
      "source": [
        "import numpy as np\n",
        "import matplotlib.pyplot as plt\n",
        "\n",
        "# Compute the x and y coordinates for points on sine and cosine curves\n",
        "testDegrees= np.arange(0, 3 * np.pi, 0.1)\n",
        "deg_sin = np.sin(testDegrees)\n",
        "deg_cos = np.cos(testDegrees)\n",
        "deg_tan = np.tan(testDegrees)\n",
        "\n",
        "# Set up a subplot grid that has height 2 and width 1,\n",
        "# and set the first such subplot as active.\n",
        "plt.subplot(2, 1, 1)\n",
        "\n",
        "# Make the first plot\n",
        "plt.plot(testDegrees, deg_sin)\n",
        "plt.title('Sine Angle')\n",
        "\n",
        "# Set the second subplot as active, and make the second plot.\n",
        "plt.subplot(2, 1, 2)\n",
        "plt.plot(testDegrees, deg_cos)\n",
        "plt.title('Cosine Angle')\n",
        "\n",
        "# Show the figure.\n",
        "plt.show()\n",
        "\n",
        "# Set the third subplot as active and make the third plot.\n",
        "plt.subplot(3, 1, 3)\n",
        "plt.plot(testDegrees, deg_tan)\n",
        "plt.title('Tangent Angle')\n",
        "\n"
      ],
      "execution_count": 0,
      "outputs": [
        {
          "output_type": "display_data",
          "data": {
            "image/png": "[encoded data removed]",
            "text/plain": [
              "<matplotlib.figure.Figure at 0x7ff7445ec9e8>"
            ]
          },
          "metadata": {
            "tags": []
          }
        },
        {
          "output_type": "execute_result",
          "data": {
            "text/plain": [
              "Text(0.5,1,'Tangent Angle')"
            ]
          },
          "metadata": {
            "tags": []
          },
          "execution_count": 73
        },
        {
          "output_type": "display_data",
          "data": {
            "image/png": "[encoded data removed]",
            "text/plain": [
              "<matplotlib.figure.Figure at 0x7ff74454f5c0>"
            ]
          },
          "metadata": {
            "tags": []
          }
        }
      ]
    },
    {
      "cell_type": "code",
      "metadata": {
        "id": "BX4WjYFkIOI0",
        "colab_type": "code",
        "outputId": "fdfbdb3e-1fec-4437-c672-770002cff052",
        "colab": {
          "base_uri": "https://localhost:8080/",
          "height": 186
        }
      },
      "source": [
        "import numpy as np\n",
        "from scipy.misc import imread, imresize\n",
        "import matplotlib.pyplot as plt\n",
        "\n",
        "bluRosImg = imread('blueRose.jpg')\n",
        "#bluRosimg_tinted = bluRosImg * [1, 0.95, 0.9]\n",
        "bluRosimg_tinted = bluRosImg * [1, 0.1, 0.76]\n",
        "\n",
        "# Show the original image\n",
        "plt.subplot(1, 2, 1)\n",
        "plt.imshow(bluRosImg)\n",
        "\n",
        "# Show the tinted image\n",
        "plt.subplot(1, 2, 2)\n",
        "\n",
        "# A slight gotcha with imshow is that it might give strange results\n",
        "# if presented with data that is not uint8. To work around this, we\n",
        "# explicitly cast the image to uint8 before displaying it.\n",
        "plt.imshow(np.uint8(bluRosimg_tinted))\n",
        "plt.show()\n"
      ],
      "execution_count": 0,
      "outputs": [
        {
          "output_type": "display_data",
          "data": {
            "image/png": "[encoded data removed]",
            "text/plain": [
              "<matplotlib.figure.Figure at 0x7ff741c07f98>"
            ]
          },
          "metadata": {
            "tags": []
          }
        }
      ]
    },
    {
      "cell_type": "code",
      "metadata": {
        "id": "M9dyFut6L7LN",
        "colab_type": "code",
        "outputId": "4ea4b9ec-bf7f-4aeb-ca9b-71b2fba87b36",
        "colab": {
          "base_uri": "https://localhost:8080/",
          "height": 204
        }
      },
      "source": [
        "!wget -O Koala.jpg https://www.google.co.in/url?sa=i&rct=j&q=&esrc=s&source=images&cd=&cad=rja&uact=8&ved=2ahUKEwis96L2_vvdAhWJ6Y8KHW2GCSIQjRx6BAgBEAU&url=https%3A%2F%2Fpixabay.com%2Fen%2Fphotos%2Fkoala%2520bear%2F&psig=AOvVaw0nAjfrzOb0fQJSmMqT8vv6&ust=1539264949825375"
      ],
      "execution_count": 0,
      "outputs": [
        {
          "output_type": "stream",
          "text": [
            "--2018-10-10 13:36:21--  https://www.google.co.in/url?sa=i\n",
            "Resolving www.google.co.in (www.google.co.in)... 74.125.142.94, 2607:f8b0:400e:c08::5e\n",
            "Connecting to www.google.co.in (www.google.co.in)|74.125.142.94|:443... connected.\n",
            "HTTP request sent, awaiting response... 200 OK\n",
            "Length: unspecified [text/html]\n",
            "Saving to: ‘Koala.jpg’\n",
            "\n",
            "\rKoala.jpg               [<=>                 ]       0  --.-KB/s               \rKoala.jpg               [ <=>                ]   1.27K  --.-KB/s    in 0s      \n",
            "\n",
            "2018-10-10 13:36:21 (17.2 MB/s) - ‘Koala.jpg’ saved [1300]\n",
            "\n"
          ],
          "name": "stdout"
        }
      ]
    },
    {
      "cell_type": "code",
      "metadata": {
        "id": "5nHJ2TkDKSnF",
        "colab_type": "code",
        "outputId": "7c2daf25-5b46-4e1d-f662-5adde04a2a96",
        "colab": {
          "base_uri": "https://localhost:8080/",
          "height": 204
        }
      },
      "source": [
        "!wget -O blueRose.jpg https://images.pexels.com/photos/67636/rose-blue-flower-rose-blooms-67636.jpeg?auto%3Dcompress%26cs%3Dtinysrgb%26h%3D350&imgrefurl=https://www.pexels.com/search/beauty/&h=350&w=528&tbnid=ZAXhvwKefKr6jM:&q=images&tbnh=160&tbnw=241&usg=AI4_-kSXnvkfUGX69bgHbFonQRtbT-H8Sg&vet=1&docid=pFs_4Fcq5AgpmM&itg=1&sa=X&ved=2ahUKEwiP44P8_PvdAhWHr48KHWvKA7QQ_B0wJXoECAYQEw "
      ],
      "execution_count": 0,
      "outputs": [
        {
          "output_type": "stream",
          "text": [
            "--2018-10-10 13:31:42--  https://images.pexels.com/photos/67636/rose-blue-flower-rose-blooms-67636.jpeg?auto%3Dcompress%26cs%3Dtinysrgb%26h%3D350\n",
            "Resolving images.pexels.com (images.pexels.com)... 104.16.238.112, 104.16.239.112, 104.16.241.112, ...\n",
            "Connecting to images.pexels.com (images.pexels.com)|104.16.238.112|:443... connected.\n",
            "HTTP request sent, awaiting response... 200 OK\n",
            "Length: 4000578 (3.8M) [image/jpeg]\n",
            "Saving to: ‘blueRose.jpg’\n",
            "\n",
            "\rblueRose.jpg          0%[                    ]       0  --.-KB/s               \rblueRose.jpg         58%[==========>         ]   2.22M  11.0MB/s               \rblueRose.jpg        100%[===================>]   3.81M  11.7MB/s    in 0.3s    \n",
            "\n",
            "2018-10-10 13:31:42 (11.7 MB/s) - ‘blueRose.jpg’ saved [4000578/4000578]\n",
            "\n"
          ],
          "name": "stdout"
        }
      ]
    },
    {
      "cell_type": "code",
      "metadata": {
        "id": "o7FZ6iVeKWMc",
        "colab_type": "code",
        "outputId": "c77dc59f-505d-4ae3-a2ba-9c3ac7b46f67",
        "colab": {
          "base_uri": "https://localhost:8080/",
          "height": 153
        }
      },
      "source": [
        "ls\n"
      ],
      "execution_count": 0,
      "outputs": [
        {
          "output_type": "stream",
          "text": [
            "blueRose.jpg\n",
            "blueRosetint.jpg\n",
            "imgres?imgurl=https:%2F%2Fimages.pexels.com%2Fphotos%2F67636%2Frose-blue-flower-rose-blooms-67636.jpeg?auto%3Dcompress%26cs%3Dtinysrgb%26h%3D350\n",
            "imgres?imgurl=https:%2F%2Fimages.pexels.com%2Fphotos%2F67636%2Frose-blue-flower-rose-blooms-67636.jpeg?auto%3Dcompress%26cs%3Dtinysrgb%26h%3D350.1\n",
            "imgres?imgurl=https:%2F%2Fimages.pexels.com%2Fphotos%2F67636%2Frose-blue-flower-rose-blooms-67636.jpeg?auto%3Dcompress%26cs%3Dtinysrgb%26h%3D350.2\n",
            "Koala.jpg\n",
            "\u001b[0m\u001b[01;34msample_data\u001b[0m/\n",
            "TajMahal.jpg\n"
          ],
          "name": "stdout"
        }
      ]
    },
    {
      "cell_type": "code",
      "metadata": {
        "id": "VJnsp4UeNKVE",
        "colab_type": "code",
        "outputId": "3df1c24e-d848-4ecb-ccd9-72485283840a",
        "colab": {
          "base_uri": "https://localhost:8080/",
          "height": 34
        }
      },
      "source": [
        "pwd\n"
      ],
      "execution_count": 0,
      "outputs": [
        {
          "output_type": "execute_result",
          "data": {
            "text/plain": [
              "'/content'"
            ]
          },
          "metadata": {
            "tags": []
          },
          "execution_count": 103
        }
      ]
    },
    {
      "cell_type": "code",
      "metadata": {
        "id": "YavTKcly5FUk",
        "colab_type": "code",
        "outputId": "aa7cbc0c-7d93-4a9a-ce12-468d15b990c2",
        "colab": {
          "base_uri": "https://localhost:8080/",
          "height": 231
        }
      },
      "source": [
        "model.add(Convolution2D(32, 3, 3, activation='relu', input_shape=(28,28,1)))\n",
        "model.add(Convolution2D(10, 1, activation='relu'))\n",
        "model.add(Convolution2D(10, 26))\n",
        "model.add(Flatten())\n",
        "model.add(Activation('softmax'))"
      ],
      "execution_count": 0,
      "outputs": [
        {
          "output_type": "error",
          "ename": "NameError",
          "evalue": "ignored",
          "traceback": [
            "\u001b[0;31m---------------------------------------------------------------------------\u001b[0m",
            "\u001b[0;31mNameError\u001b[0m                                 Traceback (most recent call last)",
            "\u001b[0;32m<ipython-input-1-685426cfa30b>\u001b[0m in \u001b[0;36m<module>\u001b[0;34m()\u001b[0m\n\u001b[0;32m----> 1\u001b[0;31m \u001b[0mmodel\u001b[0m\u001b[0;34m.\u001b[0m\u001b[0madd\u001b[0m\u001b[0;34m(\u001b[0m\u001b[0mConvolution2D\u001b[0m\u001b[0;34m(\u001b[0m\u001b[0;36m32\u001b[0m\u001b[0;34m,\u001b[0m \u001b[0;36m3\u001b[0m\u001b[0;34m,\u001b[0m \u001b[0;36m3\u001b[0m\u001b[0;34m,\u001b[0m \u001b[0mactivation\u001b[0m\u001b[0;34m=\u001b[0m\u001b[0;34m'relu'\u001b[0m\u001b[0;34m,\u001b[0m \u001b[0minput_shape\u001b[0m\u001b[0;34m=\u001b[0m\u001b[0;34m(\u001b[0m\u001b[0;36m28\u001b[0m\u001b[0;34m,\u001b[0m\u001b[0;36m28\u001b[0m\u001b[0;34m,\u001b[0m\u001b[0;36m1\u001b[0m\u001b[0;34m)\u001b[0m\u001b[0;34m)\u001b[0m\u001b[0;34m)\u001b[0m\u001b[0;34m\u001b[0m\u001b[0m\n\u001b[0m\u001b[1;32m      2\u001b[0m \u001b[0mmodel\u001b[0m\u001b[0;34m.\u001b[0m\u001b[0madd\u001b[0m\u001b[0;34m(\u001b[0m\u001b[0mConvolution2D\u001b[0m\u001b[0;34m(\u001b[0m\u001b[0;36m10\u001b[0m\u001b[0;34m,\u001b[0m \u001b[0;36m1\u001b[0m\u001b[0;34m,\u001b[0m \u001b[0mactivation\u001b[0m\u001b[0;34m=\u001b[0m\u001b[0;34m'relu'\u001b[0m\u001b[0;34m)\u001b[0m\u001b[0;34m)\u001b[0m\u001b[0;34m\u001b[0m\u001b[0m\n\u001b[1;32m      3\u001b[0m \u001b[0mmodel\u001b[0m\u001b[0;34m.\u001b[0m\u001b[0madd\u001b[0m\u001b[0;34m(\u001b[0m\u001b[0mConvolution2D\u001b[0m\u001b[0;34m(\u001b[0m\u001b[0;36m10\u001b[0m\u001b[0;34m,\u001b[0m \u001b[0;36m26\u001b[0m\u001b[0;34m)\u001b[0m\u001b[0;34m)\u001b[0m\u001b[0;34m\u001b[0m\u001b[0m\n\u001b[1;32m      4\u001b[0m \u001b[0mmodel\u001b[0m\u001b[0;34m.\u001b[0m\u001b[0madd\u001b[0m\u001b[0;34m(\u001b[0m\u001b[0mFlatten\u001b[0m\u001b[0;34m(\u001b[0m\u001b[0;34m)\u001b[0m\u001b[0;34m)\u001b[0m\u001b[0;34m\u001b[0m\u001b[0m\n\u001b[1;32m      5\u001b[0m \u001b[0mmodel\u001b[0m\u001b[0;34m.\u001b[0m\u001b[0madd\u001b[0m\u001b[0;34m(\u001b[0m\u001b[0mActivation\u001b[0m\u001b[0;34m(\u001b[0m\u001b[0;34m'softmax'\u001b[0m\u001b[0;34m)\u001b[0m\u001b[0;34m)\u001b[0m\u001b[0;34m\u001b[0m\u001b[0m\n",
            "\u001b[0;31mNameError\u001b[0m: name 'model' is not defined"
          ]
        }
      ]
    }
  ]
}