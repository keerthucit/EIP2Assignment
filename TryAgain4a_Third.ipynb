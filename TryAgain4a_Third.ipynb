{
  "nbformat": 4,
  "nbformat_minor": 0,
  "metadata": {
    "colab": {
      "name": "TryAgain4a_Third.ipynb",
      "version": "0.3.2",
      "provenance": [],
      "collapsed_sections": [],
      "include_colab_link": true
    },
    "kernelspec": {
      "name": "python3",
      "display_name": "Python 3"
    },
    "accelerator": "GPU"
  },
  "cells": [
    {
      "cell_type": "markdown",
      "metadata": {
        "id": "view-in-github",
        "colab_type": "text"
      },
      "source": [
        "<a href=\"https://colab.research.google.com/github/keerthucit/EIP2Assignment/blob/master/TryAgain4a_Third.ipynb\" target=\"_parent\"><img src=\"https://colab.research.google.com/assets/colab-badge.svg\" alt=\"Open In Colab\"/></a>"
      ]
    },
    {
      "cell_type": "code",
      "metadata": {
        "id": "K70hAckqg0EA",
        "colab_type": "code",
        "outputId": "84cecf47-63da-49fc-eb7f-2a6f12aa121e",
        "colab": {
          "base_uri": "https://localhost:8080/",
          "height": 35
        }
      },
      "source": [
        "#Installation Of Keras\n",
        "\n",
        "# https://keras.io/\n",
        "!pip install -q keras\n",
        "import keras\n"
      ],
      "execution_count": 0,
      "outputs": [
        {
          "output_type": "stream",
          "text": [
            "Using TensorFlow backend.\n"
          ],
          "name": "stderr"
        }
      ]
    },
    {
      "cell_type": "code",
      "metadata": {
        "id": "wVIx_KIigxPV",
        "colab_type": "code",
        "colab": {}
      },
      "source": [
        "# Import Packages\n",
        "\n",
        "import keras\n",
        "from keras.datasets import cifar10\n",
        "from keras.models import Model, Sequential\n",
        "from keras.layers import Dense, Dropout, Flatten, Input, AveragePooling2D, merge, Activation\n",
        "from keras.layers import Conv2D, MaxPooling2D, BatchNormalization\n",
        "from keras.layers import Concatenate\n",
        "from keras.optimizers import sgd\n",
        "from keras import metrics\n",
        "from keras_preprocessing import image\n",
        "from keras.preprocessing.image import ImageDataGenerator\n",
        "from keras import backend as K\n",
        "import tensorflow as tf\n",
        "from keras.callbacks import EarlyStopping\n",
        "from keras.callbacks import ModelCheckpoint, ReduceLROnPlateau,LearningRateScheduler\n",
        "from keras.optimizers import SGD\n",
        "import numpy as np\n",
        "import sklearn.metrics as metrics\n",
        "import h5py\n",
        "from keras.callbacks import ReduceLROnPlateau,ModelCheckpoint\n"
      ],
      "execution_count": 0,
      "outputs": []
    },
    {
      "cell_type": "code",
      "metadata": {
        "colab_type": "code",
        "id": "Ajjs2SOzaHvJ",
        "colab": {}
      },
      "source": [
        "#Prevent tensorflow to allocate all the avaliable GPU Memory\n",
        "\n",
        "import tensorflow as tf\n",
        "from keras import backend as k\n",
        "\n",
        "# Don't pre-allocate memory; allocate as-needed\n",
        "\n",
        "config = tf.ConfigProto()\n",
        "config.gpu_options.allow_growth = True\n",
        "\n",
        "# Create a session with the above options specified.\n",
        "\n",
        "k.tensorflow_backend.set_session(tf.Session(config=config))"
      ],
      "execution_count": 0,
      "outputs": []
    },
    {
      "cell_type": "code",
      "metadata": {
        "id": "mB7o3zu1g6eT",
        "colab_type": "code",
        "outputId": "8ec1b4e8-11ac-48c6-aa34-a2b2b38cda02",
        "colab": {
          "base_uri": "https://localhost:8080/",
          "height": 110
        }
      },
      "source": [
        "from skimage import transform\n",
        "\n",
        "# Load  and Normalize CIFAR10 Data\n",
        "# Y - Category names\n",
        "# x - Images\n",
        "\n",
        "(x_train, y_train), (x_test, y_test) = cifar10.load_data()\n",
        "img_height, img_width, channel = x_train.shape[1],x_train.shape[2],x_train.shape[3]\n",
        "\n",
        "# convert to one hot encoding \n",
        "y_train = keras.utils.to_categorical(y_train, num_classes)\n",
        "y_test = keras.utils.to_categorical(y_test, num_classes)\n",
        "\n",
        "new_shape=(24,24,3)\n",
        "x_train_24 =np.asarray([transform.resize(image, new_shape) for  image in x_train])\n",
        "x_test_24 = np.asarray([transform.resize(image, new_shape) for  image in x_test])\n"
      ],
      "execution_count": 0,
      "outputs": [
        {
          "output_type": "stream",
          "text": [
            "Downloading data from https://www.cs.toronto.edu/~kriz/cifar-10-python.tar.gz\n",
            "170500096/170498071 [==============================] - 20s 0us/step\n"
          ],
          "name": "stdout"
        },
        {
          "output_type": "stream",
          "text": [
            "/usr/local/lib/python3.6/dist-packages/skimage/transform/_warps.py:84: UserWarning: The default mode, 'constant', will be changed to 'reflect' in skimage 0.15.\n",
            "  warn(\"The default mode, 'constant', will be changed to 'reflect' in \"\n"
          ],
          "name": "stderr"
        }
      ]
    },
    {
      "cell_type": "code",
      "metadata": {
        "id": "dsO_yGxcg5D8",
        "colab_type": "code",
        "colab": {}
      },
      "source": [
        "import tensorflow as tf\n",
        "from keras import backend as k\n",
        "import os\n",
        "\n",
        "# Hyperparameters\n",
        "\n",
        "batch_size = 32\n",
        "data_augmentation = True\n",
        "num_predictions = 20\n",
        "save_dir = os.path.join(os.getcwd(), 'saved_models')\n",
        "model_name = 'keras_cifar10_trained_model.h5'\n",
        "num_classes = 10\n",
        "epochs = 10\n",
        "l = 12\n",
        "num_filter = 16\n",
        "compression=1.0\n",
        "dropout_rate = 0.0\n",
        "\n"
      ],
      "execution_count": 0,
      "outputs": []
    },
    {
      "cell_type": "code",
      "metadata": {
        "id": "BhSXXmA7DbSy",
        "colab_type": "code",
        "outputId": "1c31ca03-31c6-4da0-f25c-3129699b902d",
        "colab": {
          "base_uri": "https://localhost:8080/",
          "height": 165
        }
      },
      "source": [
        "# Regularizer L2 \n",
        "\n",
        "from keras import regularizers\n",
        "# define vars\n",
        "input_num_units = 784\n",
        "hidden1_num_units = 500\n",
        "hidden2_num_units = 500\n",
        "hidden3_num_units = 500\n",
        "hidden4_num_units = 500\n",
        "hidden5_num_units = 500\n",
        "output_num_units = 10\n",
        "\n",
        "\n",
        "\n",
        "model = Sequential([\n",
        " Dense(output_dim=hidden1_num_units, input_dim=input_num_units, activation='relu',\n",
        " kernel_regularizer=regularizers.l2(0.0001)),\n",
        " Dense(output_dim=hidden2_num_units, input_dim=hidden1_num_units, activation='relu',\n",
        " kernel_regularizer=regularizers.l2(0.0001)),\n",
        " Dense(output_dim=hidden3_num_units, input_dim=hidden2_num_units, activation='relu',\n",
        " kernel_regularizer=regularizers.l2(0.0001)),\n",
        " Dense(output_dim=hidden4_num_units, input_dim=hidden3_num_units, activation='relu',\n",
        " kernel_regularizer=regularizers.l2(0.0001)),\n",
        " Dense(output_dim=hidden5_num_units, input_dim=hidden4_num_units, activation='relu',\n",
        " kernel_regularizer=regularizers.l2(0.0001)),\n",
        "\n",
        "Dense(output_dim=output_num_units, input_dim=hidden5_num_units, activation='softmax'),\n",
        " ])"
      ],
      "execution_count": 0,
      "outputs": [
        {
          "output_type": "stream",
          "text": [
            "/usr/local/lib/python3.6/dist-packages/ipykernel_launcher.py:15: UserWarning: Update your `Dense` call to the Keras 2 API: `Dense(input_dim=784, activation=\"relu\", kernel_regularizer=<keras.reg..., units=500)`\n",
            "  from ipykernel import kernelapp as app\n",
            "/usr/local/lib/python3.6/dist-packages/ipykernel_launcher.py:17: UserWarning: Update your `Dense` call to the Keras 2 API: `Dense(input_dim=500, activation=\"relu\", kernel_regularizer=<keras.reg..., units=500)`\n",
            "/usr/local/lib/python3.6/dist-packages/ipykernel_launcher.py:19: UserWarning: Update your `Dense` call to the Keras 2 API: `Dense(input_dim=500, activation=\"relu\", kernel_regularizer=<keras.reg..., units=500)`\n",
            "/usr/local/lib/python3.6/dist-packages/ipykernel_launcher.py:21: UserWarning: Update your `Dense` call to the Keras 2 API: `Dense(input_dim=500, activation=\"relu\", kernel_regularizer=<keras.reg..., units=500)`\n",
            "/usr/local/lib/python3.6/dist-packages/ipykernel_launcher.py:23: UserWarning: Update your `Dense` call to the Keras 2 API: `Dense(input_dim=500, activation=\"relu\", kernel_regularizer=<keras.reg..., units=500)`\n",
            "/usr/local/lib/python3.6/dist-packages/ipykernel_launcher.py:25: UserWarning: Update your `Dense` call to the Keras 2 API: `Dense(input_dim=500, activation=\"softmax\", units=10)`\n"
          ],
          "name": "stderr"
        }
      ]
    },
    {
      "cell_type": "code",
      "metadata": {
        "id": "rzucKwEPDdiD",
        "colab_type": "code",
        "colab": {}
      },
      "source": [
        ""
      ],
      "execution_count": 0,
      "outputs": []
    },
    {
      "cell_type": "code",
      "metadata": {
        "id": "xUbC2Al34c7u",
        "colab_type": "code",
        "outputId": "8002c8c0-bd7b-49f2-de20-69da655062b4",
        "colab": {
          "base_uri": "https://localhost:8080/",
          "height": 201
        }
      },
      "source": [
        "# Regularizer L1 \n",
        "\n",
        "from keras import regularizers\n",
        "# define vars\n",
        "input_num_units = 784\n",
        "hidden1_num_units = 500\n",
        "hidden2_num_units = 500\n",
        "hidden3_num_units = 500\n",
        "hidden4_num_units = 500\n",
        "hidden5_num_units = 500\n",
        "output_num_units = 10\n",
        "model = Sequential([\n",
        " Dense(output_dim=hidden1_num_units, input_dim=input_num_units, activation='relu',\n",
        " kernel_regularizer=regularizers.l1(0.0001)),\n",
        " Dense(output_dim=hidden2_num_units, input_dim=hidden1_num_units, activation='relu',\n",
        " kernel_regularizer=regularizers.l1(0.0001)),\n",
        " Dense(output_dim=hidden3_num_units, input_dim=hidden2_num_units, activation='relu',\n",
        " kernel_regularizer=regularizers.l1(0.0001)),\n",
        " Dense(output_dim=hidden4_num_units, input_dim=hidden3_num_units, activation='relu',\n",
        " kernel_regularizer=regularizers.l1(0.0001)),\n",
        " Dense(output_dim=hidden5_num_units, input_dim=hidden4_num_units, activation='relu',\n",
        " kernel_regularizer=regularizers.l1(0.0001)),\n",
        "\n",
        "Dense(output_dim=output_num_units, input_dim=hidden5_num_units, activation='softmax'),\n",
        " ])"
      ],
      "execution_count": 0,
      "outputs": [
        {
          "output_type": "stream",
          "text": [
            "/usr/local/lib/python3.6/dist-packages/ipykernel_launcher.py:12: UserWarning: Update your `Dense` call to the Keras 2 API: `Dense(input_dim=784, activation=\"relu\", kernel_regularizer=<keras.reg..., units=500)`\n",
            "  if sys.path[0] == '':\n",
            "/usr/local/lib/python3.6/dist-packages/ipykernel_launcher.py:14: UserWarning: Update your `Dense` call to the Keras 2 API: `Dense(input_dim=500, activation=\"relu\", kernel_regularizer=<keras.reg..., units=500)`\n",
            "  \n",
            "/usr/local/lib/python3.6/dist-packages/ipykernel_launcher.py:16: UserWarning: Update your `Dense` call to the Keras 2 API: `Dense(input_dim=500, activation=\"relu\", kernel_regularizer=<keras.reg..., units=500)`\n",
            "  app.launch_new_instance()\n",
            "/usr/local/lib/python3.6/dist-packages/ipykernel_launcher.py:18: UserWarning: Update your `Dense` call to the Keras 2 API: `Dense(input_dim=500, activation=\"relu\", kernel_regularizer=<keras.reg..., units=500)`\n",
            "/usr/local/lib/python3.6/dist-packages/ipykernel_launcher.py:20: UserWarning: Update your `Dense` call to the Keras 2 API: `Dense(input_dim=500, activation=\"relu\", kernel_regularizer=<keras.reg..., units=500)`\n",
            "/usr/local/lib/python3.6/dist-packages/ipykernel_launcher.py:22: UserWarning: Update your `Dense` call to the Keras 2 API: `Dense(input_dim=500, activation=\"softmax\", units=10)`\n"
          ],
          "name": "stderr"
        }
      ]
    },
    {
      "cell_type": "code",
      "metadata": {
        "id": "ee-sge5Kg7vr",
        "colab_type": "code",
        "colab": {}
      },
      "source": [
        "# DenseNet Model Functions\n",
        "# Dense Block0:\n",
        "\n",
        "def add_denseblock(input, nb_dense_block=4, growth_rate=12, num_filter=16, reduction=0.0, dropout_rate=0.0, weight_decay=1e-4, classes=10, weights_path=None):\n",
        "#def add_denseblock(input, nb_dense_block=4, growth_rate=12, num_filter=16, reduction=0.0, dropout_rate=0.2, weight_decay=1e-4, classes=10, weights_path=None):\n",
        "#def add_denseblock(input, num_filter = 12, dropout_rate = 0.2):\n",
        "    global compression\n",
        "    temp = input\n",
        "    for _ in range(l):\n",
        "        BatchNorm = BatchNormalization()(temp)\n",
        "        relu = Activation('relu')(BatchNorm)\n",
        "       #Conv2D_3_3 = Conv2D(int(num_filter*compression), (3,3), use_bias=False ,padding='same')(relu)\n",
        "        Conv2D_3_3 = Conv2D(int(num_filter), (3,3), use_bias=False ,padding='same')(relu)\n",
        "        if dropout_rate>0:\n",
        "          Conv2D_3_3 = Dropout(dropout_rate)(Conv2D_3_3)\n",
        "        concat = Concatenate(axis=-1)([temp,Conv2D_3_3])\n",
        "        \n",
        "        temp = concat\n",
        "        \n",
        "    return temp"
      ],
      "execution_count": 0,
      "outputs": []
    },
    {
      "cell_type": "code",
      "metadata": {
        "id": "OOP6IPsGhBwb",
        "colab_type": "code",
        "colab": {}
      },
      "source": [
        "def add_transition(input, num_filter = 16, dropout_rate = 0.0):\n",
        "#def add_transition(input, num_filter = 12, dropout_rate = 0.2):\n",
        "    global compression\n",
        "    BatchNorm = BatchNormalization()(input)\n",
        "    relu = Activation('relu')(BatchNorm)\n",
        "    Conv2D_BottleNeck = Conv2D(int(num_filter*compression), (1,1), use_bias=False ,padding='same')(relu)\n",
        "    Conv2D_BottleNeck = Conv2D(int(num_filter), (1,1), use_bias=False ,padding='same')(relu)\n",
        "    if dropout_rate>0:\n",
        "      Conv2D_BottleNeck = Dropout(dropout_rate)(Conv2D_BottleNeck)\n",
        "    avg = MaxPooling2D(pool_size=2, strides=2)(Conv2D_BottleNeck)\n",
        "    \n",
        "    return avg"
      ],
      "execution_count": 0,
      "outputs": []
    },
    {
      "cell_type": "code",
      "metadata": {
        "id": "0RaKFpubhDIC",
        "colab_type": "code",
        "colab": {}
      },
      "source": [
        "def output_layer(input):\n",
        "    global compression\n",
        "    BatchNorm = BatchNormalization()(input)\n",
        "    relu = Activation('relu')(BatchNorm)\n",
        "    #AvgPooling = keras.layers.GlobalAveragePooling2D(data_format=None)\n",
        "    #output = Dense(num_classes, activation='softmax')(AvgPooling)   \n",
        "    #AvgPooling = MaxPooling2D(pool_size=2, strides=2)(relu)\n",
        "    AvgPooling = AveragePooling2D(pool_size=(2,2))(relu)\n",
        "    flat = Flatten()(AvgPooling)\n",
        "    output = Dense(num_classes, activation='softmax')(flat)    \n",
        "    return output"
      ],
      "execution_count": 0,
      "outputs": []
    },
    {
      "cell_type": "code",
      "metadata": {
        "id": "anPCpQWhhGb7",
        "colab_type": "code",
        "colab": {}
      },
      "source": [
        "#Create DenseNet Model\n",
        "\n",
        "num_filter = 16\n",
        "#num_filter = 64\n",
        "#dropout_rate = 0.2\n",
        "dropout_rate=0.0\n",
        "l = 12\n",
        "#input = Input(shape=(None, None, channel,))\n",
        "input = Input(shape=(img_height, img_width, channel,))\n",
        "First_Conv2D = Conv2D(num_filter, (3,3), use_bias=False ,padding='same')(input)\n",
        "\n",
        "First_Block = add_denseblock(First_Conv2D, num_filter, dropout_rate)\n",
        "First_Transition = add_transition(First_Block, num_filter, dropout_rate)\n",
        "\n",
        "Second_Block = add_denseblock(First_Transition, num_filter, dropout_rate)\n",
        "Second_Transition = add_transition(Second_Block, num_filter, dropout_rate)\n",
        "\n",
        "Third_Block = add_denseblock(Second_Transition, num_filter, dropout_rate)\n",
        "Third_Transition = add_transition(Third_Block, num_filter, dropout_rate)\n",
        "\n",
        "#Last_Block = add_denseblock(Third_Transition,  num_filter, dropout_rate)\n",
        "output = output_layer(Third_Transition)\n"
      ],
      "execution_count": 0,
      "outputs": []
    },
    {
      "cell_type": "code",
      "metadata": {
        "id": "1kFh7pdxhNtT",
        "colab_type": "code",
        "outputId": "a7862966-eef5-4079-8bb2-e7375379cee9",
        "colab": {
          "base_uri": "https://localhost:8080/",
          "height": 6726
        }
      },
      "source": [
        "model = Model(inputs=[input], outputs=[output])\n",
        "model.summary()"
      ],
      "execution_count": 0,
      "outputs": [
        {
          "output_type": "stream",
          "text": [
            "__________________________________________________________________________________________________\n",
            "Layer (type)                    Output Shape         Param #     Connected to                     \n",
            "==================================================================================================\n",
            "input_2 (InputLayer)            (None, 32, 32, 3)    0                                            \n",
            "__________________________________________________________________________________________________\n",
            "conv2d_44 (Conv2D)              (None, 32, 32, 16)   432         input_2[0][0]                    \n",
            "__________________________________________________________________________________________________\n",
            "batch_normalization_40 (BatchNo (None, 32, 32, 16)   64          conv2d_44[0][0]                  \n",
            "__________________________________________________________________________________________________\n",
            "activation_40 (Activation)      (None, 32, 32, 16)   0           batch_normalization_40[0][0]     \n",
            "__________________________________________________________________________________________________\n",
            "conv2d_45 (Conv2D)              (None, 32, 32, 16)   2304        activation_40[0][0]              \n",
            "__________________________________________________________________________________________________\n",
            "concatenate_37 (Concatenate)    (None, 32, 32, 32)   0           conv2d_44[0][0]                  \n",
            "                                                                 conv2d_45[0][0]                  \n",
            "__________________________________________________________________________________________________\n",
            "batch_normalization_41 (BatchNo (None, 32, 32, 32)   128         concatenate_37[0][0]             \n",
            "__________________________________________________________________________________________________\n",
            "activation_41 (Activation)      (None, 32, 32, 32)   0           batch_normalization_41[0][0]     \n",
            "__________________________________________________________________________________________________\n",
            "conv2d_46 (Conv2D)              (None, 32, 32, 16)   4608        activation_41[0][0]              \n",
            "__________________________________________________________________________________________________\n",
            "concatenate_38 (Concatenate)    (None, 32, 32, 48)   0           concatenate_37[0][0]             \n",
            "                                                                 conv2d_46[0][0]                  \n",
            "__________________________________________________________________________________________________\n",
            "batch_normalization_42 (BatchNo (None, 32, 32, 48)   192         concatenate_38[0][0]             \n",
            "__________________________________________________________________________________________________\n",
            "activation_42 (Activation)      (None, 32, 32, 48)   0           batch_normalization_42[0][0]     \n",
            "__________________________________________________________________________________________________\n",
            "conv2d_47 (Conv2D)              (None, 32, 32, 16)   6912        activation_42[0][0]              \n",
            "__________________________________________________________________________________________________\n",
            "concatenate_39 (Concatenate)    (None, 32, 32, 64)   0           concatenate_38[0][0]             \n",
            "                                                                 conv2d_47[0][0]                  \n",
            "__________________________________________________________________________________________________\n",
            "batch_normalization_43 (BatchNo (None, 32, 32, 64)   256         concatenate_39[0][0]             \n",
            "__________________________________________________________________________________________________\n",
            "activation_43 (Activation)      (None, 32, 32, 64)   0           batch_normalization_43[0][0]     \n",
            "__________________________________________________________________________________________________\n",
            "conv2d_48 (Conv2D)              (None, 32, 32, 16)   9216        activation_43[0][0]              \n",
            "__________________________________________________________________________________________________\n",
            "concatenate_40 (Concatenate)    (None, 32, 32, 80)   0           concatenate_39[0][0]             \n",
            "                                                                 conv2d_48[0][0]                  \n",
            "__________________________________________________________________________________________________\n",
            "batch_normalization_44 (BatchNo (None, 32, 32, 80)   320         concatenate_40[0][0]             \n",
            "__________________________________________________________________________________________________\n",
            "activation_44 (Activation)      (None, 32, 32, 80)   0           batch_normalization_44[0][0]     \n",
            "__________________________________________________________________________________________________\n",
            "conv2d_49 (Conv2D)              (None, 32, 32, 16)   11520       activation_44[0][0]              \n",
            "__________________________________________________________________________________________________\n",
            "concatenate_41 (Concatenate)    (None, 32, 32, 96)   0           concatenate_40[0][0]             \n",
            "                                                                 conv2d_49[0][0]                  \n",
            "__________________________________________________________________________________________________\n",
            "batch_normalization_45 (BatchNo (None, 32, 32, 96)   384         concatenate_41[0][0]             \n",
            "__________________________________________________________________________________________________\n",
            "activation_45 (Activation)      (None, 32, 32, 96)   0           batch_normalization_45[0][0]     \n",
            "__________________________________________________________________________________________________\n",
            "conv2d_50 (Conv2D)              (None, 32, 32, 16)   13824       activation_45[0][0]              \n",
            "__________________________________________________________________________________________________\n",
            "concatenate_42 (Concatenate)    (None, 32, 32, 112)  0           concatenate_41[0][0]             \n",
            "                                                                 conv2d_50[0][0]                  \n",
            "__________________________________________________________________________________________________\n",
            "batch_normalization_46 (BatchNo (None, 32, 32, 112)  448         concatenate_42[0][0]             \n",
            "__________________________________________________________________________________________________\n",
            "activation_46 (Activation)      (None, 32, 32, 112)  0           batch_normalization_46[0][0]     \n",
            "__________________________________________________________________________________________________\n",
            "conv2d_51 (Conv2D)              (None, 32, 32, 16)   16128       activation_46[0][0]              \n",
            "__________________________________________________________________________________________________\n",
            "concatenate_43 (Concatenate)    (None, 32, 32, 128)  0           concatenate_42[0][0]             \n",
            "                                                                 conv2d_51[0][0]                  \n",
            "__________________________________________________________________________________________________\n",
            "batch_normalization_47 (BatchNo (None, 32, 32, 128)  512         concatenate_43[0][0]             \n",
            "__________________________________________________________________________________________________\n",
            "activation_47 (Activation)      (None, 32, 32, 128)  0           batch_normalization_47[0][0]     \n",
            "__________________________________________________________________________________________________\n",
            "conv2d_52 (Conv2D)              (None, 32, 32, 16)   18432       activation_47[0][0]              \n",
            "__________________________________________________________________________________________________\n",
            "concatenate_44 (Concatenate)    (None, 32, 32, 144)  0           concatenate_43[0][0]             \n",
            "                                                                 conv2d_52[0][0]                  \n",
            "__________________________________________________________________________________________________\n",
            "batch_normalization_48 (BatchNo (None, 32, 32, 144)  576         concatenate_44[0][0]             \n",
            "__________________________________________________________________________________________________\n",
            "activation_48 (Activation)      (None, 32, 32, 144)  0           batch_normalization_48[0][0]     \n",
            "__________________________________________________________________________________________________\n",
            "conv2d_53 (Conv2D)              (None, 32, 32, 16)   20736       activation_48[0][0]              \n",
            "__________________________________________________________________________________________________\n",
            "concatenate_45 (Concatenate)    (None, 32, 32, 160)  0           concatenate_44[0][0]             \n",
            "                                                                 conv2d_53[0][0]                  \n",
            "__________________________________________________________________________________________________\n",
            "batch_normalization_49 (BatchNo (None, 32, 32, 160)  640         concatenate_45[0][0]             \n",
            "__________________________________________________________________________________________________\n",
            "activation_49 (Activation)      (None, 32, 32, 160)  0           batch_normalization_49[0][0]     \n",
            "__________________________________________________________________________________________________\n",
            "conv2d_54 (Conv2D)              (None, 32, 32, 16)   23040       activation_49[0][0]              \n",
            "__________________________________________________________________________________________________\n",
            "concatenate_46 (Concatenate)    (None, 32, 32, 176)  0           concatenate_45[0][0]             \n",
            "                                                                 conv2d_54[0][0]                  \n",
            "__________________________________________________________________________________________________\n",
            "batch_normalization_50 (BatchNo (None, 32, 32, 176)  704         concatenate_46[0][0]             \n",
            "__________________________________________________________________________________________________\n",
            "activation_50 (Activation)      (None, 32, 32, 176)  0           batch_normalization_50[0][0]     \n",
            "__________________________________________________________________________________________________\n",
            "conv2d_55 (Conv2D)              (None, 32, 32, 16)   25344       activation_50[0][0]              \n",
            "__________________________________________________________________________________________________\n",
            "concatenate_47 (Concatenate)    (None, 32, 32, 192)  0           concatenate_46[0][0]             \n",
            "                                                                 conv2d_55[0][0]                  \n",
            "__________________________________________________________________________________________________\n",
            "batch_normalization_51 (BatchNo (None, 32, 32, 192)  768         concatenate_47[0][0]             \n",
            "__________________________________________________________________________________________________\n",
            "activation_51 (Activation)      (None, 32, 32, 192)  0           batch_normalization_51[0][0]     \n",
            "__________________________________________________________________________________________________\n",
            "conv2d_56 (Conv2D)              (None, 32, 32, 16)   27648       activation_51[0][0]              \n",
            "__________________________________________________________________________________________________\n",
            "concatenate_48 (Concatenate)    (None, 32, 32, 208)  0           concatenate_47[0][0]             \n",
            "                                                                 conv2d_56[0][0]                  \n",
            "__________________________________________________________________________________________________\n",
            "batch_normalization_52 (BatchNo (None, 32, 32, 208)  832         concatenate_48[0][0]             \n",
            "__________________________________________________________________________________________________\n",
            "activation_52 (Activation)      (None, 32, 32, 208)  0           batch_normalization_52[0][0]     \n",
            "__________________________________________________________________________________________________\n",
            "conv2d_58 (Conv2D)              (None, 32, 32, 16)   3328        activation_52[0][0]              \n",
            "__________________________________________________________________________________________________\n",
            "max_pooling2d_4 (MaxPooling2D)  (None, 16, 16, 16)   0           conv2d_58[0][0]                  \n",
            "__________________________________________________________________________________________________\n",
            "batch_normalization_53 (BatchNo (None, 16, 16, 16)   64          max_pooling2d_4[0][0]            \n",
            "__________________________________________________________________________________________________\n",
            "activation_53 (Activation)      (None, 16, 16, 16)   0           batch_normalization_53[0][0]     \n",
            "__________________________________________________________________________________________________\n",
            "conv2d_59 (Conv2D)              (None, 16, 16, 16)   2304        activation_53[0][0]              \n",
            "__________________________________________________________________________________________________\n",
            "concatenate_49 (Concatenate)    (None, 16, 16, 32)   0           max_pooling2d_4[0][0]            \n",
            "                                                                 conv2d_59[0][0]                  \n",
            "__________________________________________________________________________________________________\n",
            "batch_normalization_54 (BatchNo (None, 16, 16, 32)   128         concatenate_49[0][0]             \n",
            "__________________________________________________________________________________________________\n",
            "activation_54 (Activation)      (None, 16, 16, 32)   0           batch_normalization_54[0][0]     \n",
            "__________________________________________________________________________________________________\n",
            "conv2d_60 (Conv2D)              (None, 16, 16, 16)   4608        activation_54[0][0]              \n",
            "__________________________________________________________________________________________________\n",
            "concatenate_50 (Concatenate)    (None, 16, 16, 48)   0           concatenate_49[0][0]             \n",
            "                                                                 conv2d_60[0][0]                  \n",
            "__________________________________________________________________________________________________\n",
            "batch_normalization_55 (BatchNo (None, 16, 16, 48)   192         concatenate_50[0][0]             \n",
            "__________________________________________________________________________________________________\n",
            "activation_55 (Activation)      (None, 16, 16, 48)   0           batch_normalization_55[0][0]     \n",
            "__________________________________________________________________________________________________\n",
            "conv2d_61 (Conv2D)              (None, 16, 16, 16)   6912        activation_55[0][0]              \n",
            "__________________________________________________________________________________________________\n",
            "concatenate_51 (Concatenate)    (None, 16, 16, 64)   0           concatenate_50[0][0]             \n",
            "                                                                 conv2d_61[0][0]                  \n",
            "__________________________________________________________________________________________________\n",
            "batch_normalization_56 (BatchNo (None, 16, 16, 64)   256         concatenate_51[0][0]             \n",
            "__________________________________________________________________________________________________\n",
            "activation_56 (Activation)      (None, 16, 16, 64)   0           batch_normalization_56[0][0]     \n",
            "__________________________________________________________________________________________________\n",
            "conv2d_62 (Conv2D)              (None, 16, 16, 16)   9216        activation_56[0][0]              \n",
            "__________________________________________________________________________________________________\n",
            "concatenate_52 (Concatenate)    (None, 16, 16, 80)   0           concatenate_51[0][0]             \n",
            "                                                                 conv2d_62[0][0]                  \n",
            "__________________________________________________________________________________________________\n",
            "batch_normalization_57 (BatchNo (None, 16, 16, 80)   320         concatenate_52[0][0]             \n",
            "__________________________________________________________________________________________________\n",
            "activation_57 (Activation)      (None, 16, 16, 80)   0           batch_normalization_57[0][0]     \n",
            "__________________________________________________________________________________________________\n",
            "conv2d_63 (Conv2D)              (None, 16, 16, 16)   11520       activation_57[0][0]              \n",
            "__________________________________________________________________________________________________\n",
            "concatenate_53 (Concatenate)    (None, 16, 16, 96)   0           concatenate_52[0][0]             \n",
            "                                                                 conv2d_63[0][0]                  \n",
            "__________________________________________________________________________________________________\n",
            "batch_normalization_58 (BatchNo (None, 16, 16, 96)   384         concatenate_53[0][0]             \n",
            "__________________________________________________________________________________________________\n",
            "activation_58 (Activation)      (None, 16, 16, 96)   0           batch_normalization_58[0][0]     \n",
            "__________________________________________________________________________________________________\n",
            "conv2d_64 (Conv2D)              (None, 16, 16, 16)   13824       activation_58[0][0]              \n",
            "__________________________________________________________________________________________________\n",
            "concatenate_54 (Concatenate)    (None, 16, 16, 112)  0           concatenate_53[0][0]             \n",
            "                                                                 conv2d_64[0][0]                  \n",
            "__________________________________________________________________________________________________\n",
            "batch_normalization_59 (BatchNo (None, 16, 16, 112)  448         concatenate_54[0][0]             \n",
            "__________________________________________________________________________________________________\n",
            "activation_59 (Activation)      (None, 16, 16, 112)  0           batch_normalization_59[0][0]     \n",
            "__________________________________________________________________________________________________\n",
            "conv2d_65 (Conv2D)              (None, 16, 16, 16)   16128       activation_59[0][0]              \n",
            "__________________________________________________________________________________________________\n",
            "concatenate_55 (Concatenate)    (None, 16, 16, 128)  0           concatenate_54[0][0]             \n",
            "                                                                 conv2d_65[0][0]                  \n",
            "__________________________________________________________________________________________________\n",
            "batch_normalization_60 (BatchNo (None, 16, 16, 128)  512         concatenate_55[0][0]             \n",
            "__________________________________________________________________________________________________\n",
            "activation_60 (Activation)      (None, 16, 16, 128)  0           batch_normalization_60[0][0]     \n",
            "__________________________________________________________________________________________________\n",
            "conv2d_66 (Conv2D)              (None, 16, 16, 16)   18432       activation_60[0][0]              \n",
            "__________________________________________________________________________________________________\n",
            "concatenate_56 (Concatenate)    (None, 16, 16, 144)  0           concatenate_55[0][0]             \n",
            "                                                                 conv2d_66[0][0]                  \n",
            "__________________________________________________________________________________________________\n",
            "batch_normalization_61 (BatchNo (None, 16, 16, 144)  576         concatenate_56[0][0]             \n",
            "__________________________________________________________________________________________________\n",
            "activation_61 (Activation)      (None, 16, 16, 144)  0           batch_normalization_61[0][0]     \n",
            "__________________________________________________________________________________________________\n",
            "conv2d_67 (Conv2D)              (None, 16, 16, 16)   20736       activation_61[0][0]              \n",
            "__________________________________________________________________________________________________\n",
            "concatenate_57 (Concatenate)    (None, 16, 16, 160)  0           concatenate_56[0][0]             \n",
            "                                                                 conv2d_67[0][0]                  \n",
            "__________________________________________________________________________________________________\n",
            "batch_normalization_62 (BatchNo (None, 16, 16, 160)  640         concatenate_57[0][0]             \n",
            "__________________________________________________________________________________________________\n",
            "activation_62 (Activation)      (None, 16, 16, 160)  0           batch_normalization_62[0][0]     \n",
            "__________________________________________________________________________________________________\n",
            "conv2d_68 (Conv2D)              (None, 16, 16, 16)   23040       activation_62[0][0]              \n",
            "__________________________________________________________________________________________________\n",
            "concatenate_58 (Concatenate)    (None, 16, 16, 176)  0           concatenate_57[0][0]             \n",
            "                                                                 conv2d_68[0][0]                  \n",
            "__________________________________________________________________________________________________\n",
            "batch_normalization_63 (BatchNo (None, 16, 16, 176)  704         concatenate_58[0][0]             \n",
            "__________________________________________________________________________________________________\n",
            "activation_63 (Activation)      (None, 16, 16, 176)  0           batch_normalization_63[0][0]     \n",
            "__________________________________________________________________________________________________\n",
            "conv2d_69 (Conv2D)              (None, 16, 16, 16)   25344       activation_63[0][0]              \n",
            "__________________________________________________________________________________________________\n",
            "concatenate_59 (Concatenate)    (None, 16, 16, 192)  0           concatenate_58[0][0]             \n",
            "                                                                 conv2d_69[0][0]                  \n",
            "__________________________________________________________________________________________________\n",
            "batch_normalization_64 (BatchNo (None, 16, 16, 192)  768         concatenate_59[0][0]             \n",
            "__________________________________________________________________________________________________\n",
            "activation_64 (Activation)      (None, 16, 16, 192)  0           batch_normalization_64[0][0]     \n",
            "__________________________________________________________________________________________________\n",
            "conv2d_70 (Conv2D)              (None, 16, 16, 16)   27648       activation_64[0][0]              \n",
            "__________________________________________________________________________________________________\n",
            "concatenate_60 (Concatenate)    (None, 16, 16, 208)  0           concatenate_59[0][0]             \n",
            "                                                                 conv2d_70[0][0]                  \n",
            "__________________________________________________________________________________________________\n",
            "batch_normalization_65 (BatchNo (None, 16, 16, 208)  832         concatenate_60[0][0]             \n",
            "__________________________________________________________________________________________________\n",
            "activation_65 (Activation)      (None, 16, 16, 208)  0           batch_normalization_65[0][0]     \n",
            "__________________________________________________________________________________________________\n",
            "conv2d_72 (Conv2D)              (None, 16, 16, 16)   3328        activation_65[0][0]              \n",
            "__________________________________________________________________________________________________\n",
            "max_pooling2d_5 (MaxPooling2D)  (None, 8, 8, 16)     0           conv2d_72[0][0]                  \n",
            "__________________________________________________________________________________________________\n",
            "batch_normalization_66 (BatchNo (None, 8, 8, 16)     64          max_pooling2d_5[0][0]            \n",
            "__________________________________________________________________________________________________\n",
            "activation_66 (Activation)      (None, 8, 8, 16)     0           batch_normalization_66[0][0]     \n",
            "__________________________________________________________________________________________________\n",
            "conv2d_73 (Conv2D)              (None, 8, 8, 16)     2304        activation_66[0][0]              \n",
            "__________________________________________________________________________________________________\n",
            "concatenate_61 (Concatenate)    (None, 8, 8, 32)     0           max_pooling2d_5[0][0]            \n",
            "                                                                 conv2d_73[0][0]                  \n",
            "__________________________________________________________________________________________________\n",
            "batch_normalization_67 (BatchNo (None, 8, 8, 32)     128         concatenate_61[0][0]             \n",
            "__________________________________________________________________________________________________\n",
            "activation_67 (Activation)      (None, 8, 8, 32)     0           batch_normalization_67[0][0]     \n",
            "__________________________________________________________________________________________________\n",
            "conv2d_74 (Conv2D)              (None, 8, 8, 16)     4608        activation_67[0][0]              \n",
            "__________________________________________________________________________________________________\n",
            "concatenate_62 (Concatenate)    (None, 8, 8, 48)     0           concatenate_61[0][0]             \n",
            "                                                                 conv2d_74[0][0]                  \n",
            "__________________________________________________________________________________________________\n",
            "batch_normalization_68 (BatchNo (None, 8, 8, 48)     192         concatenate_62[0][0]             \n",
            "__________________________________________________________________________________________________\n",
            "activation_68 (Activation)      (None, 8, 8, 48)     0           batch_normalization_68[0][0]     \n",
            "__________________________________________________________________________________________________\n",
            "conv2d_75 (Conv2D)              (None, 8, 8, 16)     6912        activation_68[0][0]              \n",
            "__________________________________________________________________________________________________\n",
            "concatenate_63 (Concatenate)    (None, 8, 8, 64)     0           concatenate_62[0][0]             \n",
            "                                                                 conv2d_75[0][0]                  \n",
            "__________________________________________________________________________________________________\n",
            "batch_normalization_69 (BatchNo (None, 8, 8, 64)     256         concatenate_63[0][0]             \n",
            "__________________________________________________________________________________________________\n",
            "activation_69 (Activation)      (None, 8, 8, 64)     0           batch_normalization_69[0][0]     \n",
            "__________________________________________________________________________________________________\n",
            "conv2d_76 (Conv2D)              (None, 8, 8, 16)     9216        activation_69[0][0]              \n",
            "__________________________________________________________________________________________________\n",
            "concatenate_64 (Concatenate)    (None, 8, 8, 80)     0           concatenate_63[0][0]             \n",
            "                                                                 conv2d_76[0][0]                  \n",
            "__________________________________________________________________________________________________\n",
            "batch_normalization_70 (BatchNo (None, 8, 8, 80)     320         concatenate_64[0][0]             \n",
            "__________________________________________________________________________________________________\n",
            "activation_70 (Activation)      (None, 8, 8, 80)     0           batch_normalization_70[0][0]     \n",
            "__________________________________________________________________________________________________\n",
            "conv2d_77 (Conv2D)              (None, 8, 8, 16)     11520       activation_70[0][0]              \n",
            "__________________________________________________________________________________________________\n",
            "concatenate_65 (Concatenate)    (None, 8, 8, 96)     0           concatenate_64[0][0]             \n",
            "                                                                 conv2d_77[0][0]                  \n",
            "__________________________________________________________________________________________________\n",
            "batch_normalization_71 (BatchNo (None, 8, 8, 96)     384         concatenate_65[0][0]             \n",
            "__________________________________________________________________________________________________\n",
            "activation_71 (Activation)      (None, 8, 8, 96)     0           batch_normalization_71[0][0]     \n",
            "__________________________________________________________________________________________________\n",
            "conv2d_78 (Conv2D)              (None, 8, 8, 16)     13824       activation_71[0][0]              \n",
            "__________________________________________________________________________________________________\n",
            "concatenate_66 (Concatenate)    (None, 8, 8, 112)    0           concatenate_65[0][0]             \n",
            "                                                                 conv2d_78[0][0]                  \n",
            "__________________________________________________________________________________________________\n",
            "batch_normalization_72 (BatchNo (None, 8, 8, 112)    448         concatenate_66[0][0]             \n",
            "__________________________________________________________________________________________________\n",
            "activation_72 (Activation)      (None, 8, 8, 112)    0           batch_normalization_72[0][0]     \n",
            "__________________________________________________________________________________________________\n",
            "conv2d_79 (Conv2D)              (None, 8, 8, 16)     16128       activation_72[0][0]              \n",
            "__________________________________________________________________________________________________\n",
            "concatenate_67 (Concatenate)    (None, 8, 8, 128)    0           concatenate_66[0][0]             \n",
            "                                                                 conv2d_79[0][0]                  \n",
            "__________________________________________________________________________________________________\n",
            "batch_normalization_73 (BatchNo (None, 8, 8, 128)    512         concatenate_67[0][0]             \n",
            "__________________________________________________________________________________________________\n",
            "activation_73 (Activation)      (None, 8, 8, 128)    0           batch_normalization_73[0][0]     \n",
            "__________________________________________________________________________________________________\n",
            "conv2d_80 (Conv2D)              (None, 8, 8, 16)     18432       activation_73[0][0]              \n",
            "__________________________________________________________________________________________________\n",
            "concatenate_68 (Concatenate)    (None, 8, 8, 144)    0           concatenate_67[0][0]             \n",
            "                                                                 conv2d_80[0][0]                  \n",
            "__________________________________________________________________________________________________\n",
            "batch_normalization_74 (BatchNo (None, 8, 8, 144)    576         concatenate_68[0][0]             \n",
            "__________________________________________________________________________________________________\n",
            "activation_74 (Activation)      (None, 8, 8, 144)    0           batch_normalization_74[0][0]     \n",
            "__________________________________________________________________________________________________\n",
            "conv2d_81 (Conv2D)              (None, 8, 8, 16)     20736       activation_74[0][0]              \n",
            "__________________________________________________________________________________________________\n",
            "concatenate_69 (Concatenate)    (None, 8, 8, 160)    0           concatenate_68[0][0]             \n",
            "                                                                 conv2d_81[0][0]                  \n",
            "__________________________________________________________________________________________________\n",
            "batch_normalization_75 (BatchNo (None, 8, 8, 160)    640         concatenate_69[0][0]             \n",
            "__________________________________________________________________________________________________\n",
            "activation_75 (Activation)      (None, 8, 8, 160)    0           batch_normalization_75[0][0]     \n",
            "__________________________________________________________________________________________________\n",
            "conv2d_82 (Conv2D)              (None, 8, 8, 16)     23040       activation_75[0][0]              \n",
            "__________________________________________________________________________________________________\n",
            "concatenate_70 (Concatenate)    (None, 8, 8, 176)    0           concatenate_69[0][0]             \n",
            "                                                                 conv2d_82[0][0]                  \n",
            "__________________________________________________________________________________________________\n",
            "batch_normalization_76 (BatchNo (None, 8, 8, 176)    704         concatenate_70[0][0]             \n",
            "__________________________________________________________________________________________________\n",
            "activation_76 (Activation)      (None, 8, 8, 176)    0           batch_normalization_76[0][0]     \n",
            "__________________________________________________________________________________________________\n",
            "conv2d_83 (Conv2D)              (None, 8, 8, 16)     25344       activation_76[0][0]              \n",
            "__________________________________________________________________________________________________\n",
            "concatenate_71 (Concatenate)    (None, 8, 8, 192)    0           concatenate_70[0][0]             \n",
            "                                                                 conv2d_83[0][0]                  \n",
            "__________________________________________________________________________________________________\n",
            "batch_normalization_77 (BatchNo (None, 8, 8, 192)    768         concatenate_71[0][0]             \n",
            "__________________________________________________________________________________________________\n",
            "activation_77 (Activation)      (None, 8, 8, 192)    0           batch_normalization_77[0][0]     \n",
            "__________________________________________________________________________________________________\n",
            "conv2d_84 (Conv2D)              (None, 8, 8, 16)     27648       activation_77[0][0]              \n",
            "__________________________________________________________________________________________________\n",
            "concatenate_72 (Concatenate)    (None, 8, 8, 208)    0           concatenate_71[0][0]             \n",
            "                                                                 conv2d_84[0][0]                  \n",
            "__________________________________________________________________________________________________\n",
            "batch_normalization_78 (BatchNo (None, 8, 8, 208)    832         concatenate_72[0][0]             \n",
            "__________________________________________________________________________________________________\n",
            "activation_78 (Activation)      (None, 8, 8, 208)    0           batch_normalization_78[0][0]     \n",
            "__________________________________________________________________________________________________\n",
            "conv2d_86 (Conv2D)              (None, 8, 8, 16)     3328        activation_78[0][0]              \n",
            "__________________________________________________________________________________________________\n",
            "max_pooling2d_6 (MaxPooling2D)  (None, 4, 4, 16)     0           conv2d_86[0][0]                  \n",
            "__________________________________________________________________________________________________\n",
            "batch_normalization_79 (BatchNo (None, 4, 4, 16)     64          max_pooling2d_6[0][0]            \n",
            "__________________________________________________________________________________________________\n",
            "activation_79 (Activation)      (None, 4, 4, 16)     0           batch_normalization_79[0][0]     \n",
            "__________________________________________________________________________________________________\n",
            "average_pooling2d_1 (AveragePoo (None, 2, 2, 16)     0           activation_79[0][0]              \n",
            "__________________________________________________________________________________________________\n",
            "flatten_1 (Flatten)             (None, 64)           0           average_pooling2d_1[0][0]        \n",
            "__________________________________________________________________________________________________\n",
            "dense_25 (Dense)                (None, 10)           650         flatten_1[0][0]                  \n",
            "==================================================================================================\n",
            "Total params: 567,738\n",
            "Trainable params: 558,970\n",
            "Non-trainable params: 8,768\n",
            "__________________________________________________________________________________________________\n"
          ],
          "name": "stdout"
        }
      ]
    },
    {
      "cell_type": "code",
      "metadata": {
        "id": "b4XOsW3ahSkL",
        "colab_type": "code",
        "colab": {}
      },
      "source": [
        "# determine Loss function and Optimizer\n",
        "#sgd=SGD(lr=1e-1, decay=1e-6, momentum=0.9, nesterov=True)\n",
        "sgd=SGD(lr=1e-1,momentum=0.9, nesterov=True)\n",
        "model.compile(loss='categorical_crossentropy', optimizer='sgd', metrics=['accuracy'])\n",
        "x_train = x_train.astype('float32')\n",
        "x_test = x_test.astype('float32')\n",
        "x_train /= 255\n",
        "x_test /= 255\n"
      ],
      "execution_count": 0,
      "outputs": []
    },
    {
      "cell_type": "code",
      "metadata": {
        "id": "jeElgsagkto8",
        "colab_type": "code",
        "outputId": "d3e26550-3015-45f1-e1f4-8fc77cb8558a",
        "colab": {
          "base_uri": "https://localhost:8080/",
          "height": 35
        }
      },
      "source": [
        "# Data Augmentation Definition\n",
        "\n",
        "if not data_augmentation:\n",
        "    print('Not using data augmentation.')\n",
        "    model.fit(x_train, y_train,\n",
        "              batch_size=batch_size,\n",
        "              epochs=epochs,\n",
        "              validation_data=(x_test, y_test),\n",
        "              shuffle=True)\n",
        "else:\n",
        "    print('Using real-time data augmentation.')\n",
        "    # This will do preprocessing and realtime data augmentation:\n",
        "    datagen = ImageDataGenerator(rotation_range=15,    \n",
        "              width_shift_range=0.1,        \n",
        "              channel_shift_range=0.1,  \n",
        "              horizontal_flip=True)  \n",
        "    datagen.fit(x_train)\n",
        "\n",
        "    \n"
      ],
      "execution_count": 0,
      "outputs": [
        {
          "output_type": "stream",
          "text": [
            "Using real-time data augmentation.\n"
          ],
          "name": "stdout"
        }
      ]
    },
    {
      "cell_type": "code",
      "metadata": {
        "id": "4TgpaZnHOYS3",
        "colab_type": "code",
        "colab": {}
      },
      "source": [
        "#Images Display \n",
        "\n",
        "from matplotlib import pyplot\n",
        "def show_imgs(X):\n",
        "    pyplot.figure(1)\n",
        "    k = 0\n",
        "    for i in range(0,4):\n",
        "        for j in range(0,4):\n",
        "            pyplot.subplot2grid((4,4),(i,j))\n",
        "            pyplot.imshow(toimage(X[k]))\n",
        "            k = k+1\n",
        "    # show the plot\n",
        "    pyplot.show()"
      ],
      "execution_count": 0,
      "outputs": []
    },
    {
      "cell_type": "code",
      "metadata": {
        "id": "YAE7rhUC9zJh",
        "colab_type": "code",
        "outputId": "b702b273-edfa-4adf-b564-84096a467db2",
        "colab": {
          "base_uri": "https://localhost:8080/",
          "height": 350
        }
      },
      "source": [
        "\n",
        "from scipy.misc import toimage\n",
        "show_imgs(x_test[:18])"
      ],
      "execution_count": 0,
      "outputs": [
        {
          "output_type": "display_data",
          "data": {
            "image/png": "[encoded data removed]",
            "text/plain": [
              "<matplotlib.figure.Figure at 0x7fabc8041588>"
            ]
          },
          "metadata": {
            "tags": []
          }
        }
      ]
    },
    {
      "cell_type": "code",
      "metadata": {
        "id": "OEY749VT-gT8",
        "colab_type": "code",
        "outputId": "8ecf31f2-326a-479a-f8a4-0dcccc3a6e60",
        "colab": {
          "base_uri": "https://localhost:8080/",
          "height": 54
        }
      },
      "source": [
        "!fusermount -u drive\n",
        "!google-drive-ocamlfuse drive\n"
      ],
      "execution_count": 0,
      "outputs": [
        {
          "output_type": "stream",
          "text": [
            "/bin/bash: fusermount: command not found\n",
            "/bin/bash: google-drive-ocamlfuse: command not found\n"
          ],
          "name": "stdout"
        }
      ]
    },
    {
      "cell_type": "code",
      "metadata": {
        "id": "kC_5jAmU5w3K",
        "colab_type": "code",
        "outputId": "5c950dd0-9e3b-44ad-9801-6944a812dfa3",
        "colab": {
          "base_uri": "https://localhost:8080/",
          "height": 128
        }
      },
      "source": [
        "#mount new if mount command fails\n",
        "from google.colab import drive\n",
        "drive.mount('/content/drive')\n",
        "#drive.mount('/content/drive/MyDrive')"
      ],
      "execution_count": 0,
      "outputs": [
        {
          "output_type": "stream",
          "text": [
            "Go to this URL in a browser: https://accounts.google.com/o/oauth2/auth?client_id=947318989803-6bn6qk8qdgf4n4g3pfee6491hc0brc4i.apps.googleusercontent.com&redirect_uri=urn%3Aietf%3Awg%3Aoauth%3A2.0%3Aoob&scope=email%20https%3A%2F%2Fwww.googleapis.com%2Fauth%2Fdocs.test%20https%3A%2F%2Fwww.googleapis.com%2Fauth%2Fdrive%20https%3A%2F%2Fwww.googleapis.com%2Fauth%2Fdrive.photos.readonly%20https%3A%2F%2Fwww.googleapis.com%2Fauth%2Fpeopleapi.readonly&response_type=code\n",
            "\n",
            "Enter your authorization code:\n",
            "··········\n",
            "Mounted at /content/drive\n"
          ],
          "name": "stdout"
        }
      ]
    },
    {
      "cell_type": "code",
      "metadata": {
        "id": "aRpdlGIjHfPi",
        "colab_type": "code",
        "colab": {}
      },
      "source": [
        "!ls -R /content/sample_data"
      ],
      "execution_count": 0,
      "outputs": []
    },
    {
      "cell_type": "code",
      "metadata": {
        "id": "9e4ZNGfkPLnu",
        "colab_type": "code",
        "outputId": "0dcb54a2-209a-4471-8118-8d13f096a160",
        "colab": {
          "base_uri": "https://localhost:8080/",
          "height": 350
        }
      },
      "source": [
        "# Image Display\n",
        "\n",
        "from matplotlib import pyplot as plt\n",
        "# Configure batch size and retrieve one batch of images\n",
        "for X_batch, y_batch in datagen.flow(x_train, y_train, batch_size=9):\n",
        "    # Show 9 images\n",
        "    for i in range(0, 9):\n",
        "        pyplot.subplot(330 + 1 + i)\n",
        "        pyplot.imshow(toimage(X_batch[i].reshape(x_train.shape[1], x_train.shape[2], 3)))\n",
        "    # show the plot\n",
        "    pyplot.show()\n",
        "    break"
      ],
      "execution_count": 0,
      "outputs": [
        {
          "output_type": "display_data",
          "data": {
            "image/png": "[encoded data removed]",
            "text/plain": [
              "<matplotlib.figure.Figure at 0x7fabc7d12668>"
            ]
          },
          "metadata": {
            "tags": []
          }
        }
      ]
    },
    {
      "cell_type": "code",
      "metadata": {
        "id": "IF4P2J-dPU3W",
        "colab_type": "code",
        "colab": {}
      },
      "source": [
        "#LR Schedule Function\n",
        "def lr_schedule(epoch):\n",
        "    lrate = 0.1\n",
        "    if epoch > 32:\n",
        "        lrate = 0.15\n",
        "    elif epoch > 48:\n",
        "        lrate = 0.2        \n",
        "    return lrate"
      ],
      "execution_count": 0,
      "outputs": []
    },
    {
      "cell_type": "code",
      "metadata": {
        "id": "HlfXRjVWPcHV",
        "colab_type": "code",
        "outputId": "305c403f-79ca-43ff-8ef6-900a98c129e1",
        "colab": {
          "base_uri": "https://localhost:8080/",
          "height": 2217
        }
      },
      "source": [
        "# CallBacks Definition\n",
        "\n",
        "batch_size = 128\n",
        "\n",
        "model.fit_generator(datagen.flow(x_train, y_train, batch_size=batch_size),\\\n",
        "                    steps_per_epoch=x_train.shape[0] // batch_size,epochs=60,\\\n",
        "                    verbose=1,validation_data=(x_test,y_test),callbacks=[LearningRateScheduler(lr_schedule)])\n",
        "\n",
        "#Training - Epochs 1 to 60 (max val_acc: 85.80%)"
      ],
      "execution_count": 0,
      "outputs": [
        {
          "output_type": "stream",
          "text": [
            "Epoch 1/60\n",
            "390/390 [==============================] - 180s 461ms/step - loss: 0.2106 - acc: 0.9259 - val_loss: 0.4337 - val_acc: 0.8634\n",
            "Epoch 2/60\n",
            "390/390 [==============================] - 180s 461ms/step - loss: 0.2044 - acc: 0.9280 - val_loss: 0.4380 - val_acc: 0.8683\n",
            "Epoch 3/60\n",
            "390/390 [==============================] - 180s 461ms/step - loss: 0.1987 - acc: 0.9296 - val_loss: 0.4355 - val_acc: 0.8661\n",
            "Epoch 4/60\n",
            "390/390 [==============================] - 180s 461ms/step - loss: 0.1975 - acc: 0.9295 - val_loss: 0.4693 - val_acc: 0.8607\n",
            "Epoch 5/60\n",
            "390/390 [==============================] - 180s 461ms/step - loss: 0.1959 - acc: 0.9315 - val_loss: 0.5047 - val_acc: 0.8566\n",
            "Epoch 6/60\n",
            "390/390 [==============================] - 180s 461ms/step - loss: 0.1961 - acc: 0.9303 - val_loss: 0.4389 - val_acc: 0.8655\n",
            "Epoch 7/60\n",
            "390/390 [==============================] - 180s 461ms/step - loss: 0.1974 - acc: 0.9307 - val_loss: 0.4641 - val_acc: 0.8595\n",
            "Epoch 8/60\n",
            "390/390 [==============================] - 180s 461ms/step - loss: 0.1881 - acc: 0.9337 - val_loss: 0.4543 - val_acc: 0.8632\n",
            "Epoch 9/60\n",
            "390/390 [==============================] - 180s 461ms/step - loss: 0.1872 - acc: 0.9335 - val_loss: 0.5145 - val_acc: 0.8566\n",
            "Epoch 10/60\n",
            "390/390 [==============================] - 180s 461ms/step - loss: 0.1877 - acc: 0.9338 - val_loss: 0.5197 - val_acc: 0.8529\n",
            "Epoch 11/60\n",
            "390/390 [==============================] - 180s 461ms/step - loss: 0.1831 - acc: 0.9349 - val_loss: 0.4552 - val_acc: 0.8669\n",
            "Epoch 12/60\n",
            "390/390 [==============================] - 180s 461ms/step - loss: 0.1838 - acc: 0.9358 - val_loss: 0.5977 - val_acc: 0.8339\n",
            "Epoch 13/60\n",
            "390/390 [==============================] - 180s 461ms/step - loss: 0.1836 - acc: 0.9359 - val_loss: 0.4196 - val_acc: 0.8729\n",
            "Epoch 14/60\n",
            "390/390 [==============================] - 180s 461ms/step - loss: 0.1727 - acc: 0.9385 - val_loss: 0.4653 - val_acc: 0.8636\n",
            "Epoch 15/60\n",
            "390/390 [==============================] - 180s 461ms/step - loss: 0.1761 - acc: 0.9371 - val_loss: 0.4484 - val_acc: 0.8691\n",
            "Epoch 16/60\n",
            "390/390 [==============================] - 180s 461ms/step - loss: 0.1749 - acc: 0.9384 - val_loss: 0.4557 - val_acc: 0.8740\n",
            "Epoch 17/60\n",
            "390/390 [==============================] - 180s 461ms/step - loss: 0.1760 - acc: 0.9381 - val_loss: 0.4530 - val_acc: 0.8697\n",
            "Epoch 18/60\n",
            "390/390 [==============================] - 180s 461ms/step - loss: 0.1673 - acc: 0.9406 - val_loss: 0.4885 - val_acc: 0.8598\n",
            "Epoch 19/60\n",
            "390/390 [==============================] - 180s 461ms/step - loss: 0.1684 - acc: 0.9403 - val_loss: 0.4577 - val_acc: 0.8703\n",
            "Epoch 20/60\n",
            "390/390 [==============================] - 179s 460ms/step - loss: 0.1683 - acc: 0.9395 - val_loss: 0.4974 - val_acc: 0.8631\n",
            "Epoch 21/60\n",
            "390/390 [==============================] - 180s 461ms/step - loss: 0.1663 - acc: 0.9406 - val_loss: 0.4458 - val_acc: 0.8733\n",
            "Epoch 22/60\n",
            "390/390 [==============================] - 180s 461ms/step - loss: 0.1630 - acc: 0.9426 - val_loss: 0.5028 - val_acc: 0.8594\n",
            "Epoch 23/60\n",
            "390/390 [==============================] - 180s 461ms/step - loss: 0.1648 - acc: 0.9418 - val_loss: 0.4575 - val_acc: 0.8688\n",
            "Epoch 24/60\n",
            "390/390 [==============================] - 180s 461ms/step - loss: 0.1626 - acc: 0.9423 - val_loss: 0.5244 - val_acc: 0.8569\n",
            "Epoch 25/60\n",
            "390/390 [==============================] - 180s 461ms/step - loss: 0.1648 - acc: 0.9419 - val_loss: 0.4234 - val_acc: 0.8789\n",
            "Epoch 26/60\n",
            "390/390 [==============================] - 180s 461ms/step - loss: 0.1602 - acc: 0.9428 - val_loss: 0.4746 - val_acc: 0.8698\n",
            "Epoch 27/60\n",
            "390/390 [==============================] - 180s 461ms/step - loss: 0.1574 - acc: 0.9432 - val_loss: 0.4759 - val_acc: 0.8649\n",
            "Epoch 28/60\n",
            "390/390 [==============================] - 180s 461ms/step - loss: 0.1565 - acc: 0.9448 - val_loss: 0.4652 - val_acc: 0.8712\n",
            "Epoch 29/60\n",
            "390/390 [==============================] - 180s 461ms/step - loss: 0.1527 - acc: 0.9462 - val_loss: 0.4800 - val_acc: 0.8696\n",
            "Epoch 30/60\n",
            "390/390 [==============================] - 180s 461ms/step - loss: 0.1542 - acc: 0.9454 - val_loss: 0.4762 - val_acc: 0.8688\n",
            "Epoch 31/60\n",
            "390/390 [==============================] - 180s 461ms/step - loss: 0.1530 - acc: 0.9455 - val_loss: 0.5042 - val_acc: 0.8631\n",
            "Epoch 32/60\n",
            "390/390 [==============================] - 180s 461ms/step - loss: 0.1567 - acc: 0.9443 - val_loss: 0.5602 - val_acc: 0.8546\n",
            "Epoch 33/60\n",
            "390/390 [==============================] - 180s 462ms/step - loss: 0.1492 - acc: 0.9474 - val_loss: 0.4370 - val_acc: 0.8803\n",
            "Epoch 34/60\n",
            "390/390 [==============================] - 180s 461ms/step - loss: 0.1846 - acc: 0.9332 - val_loss: 0.5082 - val_acc: 0.8628\n",
            "Epoch 35/60\n",
            "390/390 [==============================] - 180s 461ms/step - loss: 0.1922 - acc: 0.9312 - val_loss: 0.4769 - val_acc: 0.8636\n",
            "Epoch 36/60\n",
            "390/390 [==============================] - 180s 461ms/step - loss: 0.1824 - acc: 0.9341 - val_loss: 0.5709 - val_acc: 0.8443\n",
            "Epoch 37/60\n",
            "390/390 [==============================] - 180s 460ms/step - loss: 0.1835 - acc: 0.9344 - val_loss: 0.4503 - val_acc: 0.8710\n",
            "Epoch 38/60\n",
            "390/390 [==============================] - 180s 461ms/step - loss: 0.1749 - acc: 0.9385 - val_loss: 0.4883 - val_acc: 0.8670\n",
            "Epoch 39/60\n",
            "390/390 [==============================] - 180s 461ms/step - loss: 0.1786 - acc: 0.9361 - val_loss: 0.6118 - val_acc: 0.8353\n",
            "Epoch 40/60\n",
            "390/390 [==============================] - 180s 461ms/step - loss: 0.1722 - acc: 0.9380 - val_loss: 0.5177 - val_acc: 0.8527\n",
            "Epoch 41/60\n",
            "390/390 [==============================] - 180s 461ms/step - loss: 0.1756 - acc: 0.9373 - val_loss: 0.4527 - val_acc: 0.8746\n",
            "Epoch 42/60\n",
            "390/390 [==============================] - 180s 461ms/step - loss: 0.1672 - acc: 0.9409 - val_loss: 0.4975 - val_acc: 0.8668\n",
            "Epoch 43/60\n",
            "390/390 [==============================] - 180s 461ms/step - loss: 0.1671 - acc: 0.9401 - val_loss: 0.5264 - val_acc: 0.8574\n",
            "Epoch 44/60\n",
            "390/390 [==============================] - 180s 461ms/step - loss: 0.1626 - acc: 0.9430 - val_loss: 0.4750 - val_acc: 0.8683\n",
            "Epoch 45/60\n",
            "390/390 [==============================] - 180s 461ms/step - loss: 0.1655 - acc: 0.9410 - val_loss: 0.4757 - val_acc: 0.8699\n",
            "Epoch 46/60\n",
            "390/390 [==============================] - 180s 461ms/step - loss: 0.1669 - acc: 0.9414 - val_loss: 0.4916 - val_acc: 0.8622\n",
            "Epoch 47/60\n",
            "390/390 [==============================] - 180s 462ms/step - loss: 0.1638 - acc: 0.9400 - val_loss: 0.5394 - val_acc: 0.8570\n",
            "Epoch 48/60\n",
            "390/390 [==============================] - 180s 461ms/step - loss: 0.1634 - acc: 0.9422 - val_loss: 0.4809 - val_acc: 0.8721\n",
            "Epoch 49/60\n",
            "390/390 [==============================] - 180s 461ms/step - loss: 0.1588 - acc: 0.9429 - val_loss: 0.5179 - val_acc: 0.8639\n",
            "Epoch 50/60\n",
            "390/390 [==============================] - 180s 461ms/step - loss: 0.1506 - acc: 0.9468 - val_loss: 0.4993 - val_acc: 0.8640\n",
            "Epoch 51/60\n",
            "390/390 [==============================] - 180s 461ms/step - loss: 0.1514 - acc: 0.9455 - val_loss: 0.4824 - val_acc: 0.8682\n",
            "Epoch 52/60\n",
            "390/390 [==============================] - 180s 461ms/step - loss: 0.1515 - acc: 0.9455 - val_loss: 0.5496 - val_acc: 0.8550\n",
            "Epoch 53/60\n",
            "390/390 [==============================] - 180s 461ms/step - loss: 0.1541 - acc: 0.9453 - val_loss: 0.5689 - val_acc: 0.8574\n",
            "Epoch 54/60\n",
            "390/390 [==============================] - 180s 461ms/step - loss: 0.1508 - acc: 0.9462 - val_loss: 0.4863 - val_acc: 0.8676\n",
            "Epoch 55/60\n",
            "390/390 [==============================] - 180s 461ms/step - loss: 0.1493 - acc: 0.9473 - val_loss: 0.5696 - val_acc: 0.8481\n",
            "Epoch 56/60\n",
            "390/390 [==============================] - 180s 461ms/step - loss: 0.1445 - acc: 0.9487 - val_loss: 0.5482 - val_acc: 0.8632\n",
            "Epoch 57/60\n",
            "390/390 [==============================] - 180s 461ms/step - loss: 0.1505 - acc: 0.9462 - val_loss: 0.4890 - val_acc: 0.8681\n",
            "Epoch 58/60\n",
            "390/390 [==============================] - 180s 460ms/step - loss: 0.1479 - acc: 0.9464 - val_loss: 0.6024 - val_acc: 0.8500\n",
            "Epoch 59/60\n",
            "390/390 [==============================] - 179s 460ms/step - loss: 0.1400 - acc: 0.9506 - val_loss: 0.4894 - val_acc: 0.8684\n",
            "Epoch 60/60\n",
            "390/390 [==============================] - 180s 461ms/step - loss: 0.1462 - acc: 0.9476 - val_loss: 0.5615 - val_acc: 0.8580\n"
          ],
          "name": "stdout"
        },
        {
          "output_type": "execute_result",
          "data": {
            "text/plain": [
              "<keras.callbacks.History at 0x7fabc7d3ce10>"
            ]
          },
          "metadata": {
            "tags": []
          },
          "execution_count": 31
        }
      ]
    },
    {
      "cell_type": "code",
      "metadata": {
        "id": "uDbFvEmJ7jWj",
        "colab_type": "code",
        "colab": {}
      },
      "source": [
        "#First 60 epochs training\n",
        "# Use checkpoint versions to save partially trained model [12 hrs  for colab]\n",
        "# Fit the model on the batches generated by datagen.flow()\n",
        "##reduce_lr = keras.callbacks.ReduceLROnPlateau(monitor='val_loss', factor=np.sqrt(0.1), cooldown=0, patience=5, min_lr=1e-5)\n",
        "# checkpoint\n",
        "##filepath=\"/content/sample_data/PreTrain_weights-improvement-{epoch:03d}-{val_acc:.3f}.hdf5\"\n",
        "##model_checkpoint =keras.callbacks.ModelCheckpoint(filepath, monitor='val_loss',save_weights_only=True,save_best_only=True, verbose=1, mode='max')\n",
        "##callbacks_list = [reduce_lr,model_checkpoint]\n",
        "##history=model.fit(x_train, y_train,batch_size=128, initial_epoch=0, epochs=30, verbose=1, validation_data=(x_test, y_test), validation_split=0.2,callbacks=callbacks_list)\n",
        "\n",
        "\n"
      ],
      "execution_count": 0,
      "outputs": []
    },
    {
      "cell_type": "code",
      "metadata": {
        "id": "szXGon0a27d6",
        "colab_type": "code",
        "outputId": "c3a9565a-c2e3-490c-e52a-06da8ea9d760",
        "colab": {
          "base_uri": "https://localhost:8080/",
          "height": 54
        }
      },
      "source": [
        "loss, acc = model.evaluate(x_test,y_test)\n",
        "print(\"Model, accuracy: {:5.2f}%\".format(100*acc))"
      ],
      "execution_count": 0,
      "outputs": [
        {
          "output_type": "stream",
          "text": [
            "10000/10000 [==============================] - 13s 1ms/step\n",
            "Model, accuracy: 85.80%\n"
          ],
          "name": "stdout"
        }
      ]
    },
    {
      "cell_type": "code",
      "metadata": {
        "id": "VAlqOY58OEVC",
        "colab_type": "code",
        "colab": {}
      },
      "source": [
        "#Create a new, untrained model. When restoring a model from only weights, must have a model with the same architecture as the original model. \n",
        "#Since it's the same model architecture, we can share weights despite that it's a different instance of the model.\n",
        "#Now rebuild a fresh, untrained model, and evaluate it on the test set. An untrained model will perform at chance levels (~10% accuracy):"
      ],
      "execution_count": 0,
      "outputs": []
    },
    {
      "cell_type": "markdown",
      "metadata": {
        "id": "1DTKpZssRSo3",
        "colab_type": "text"
      },
      "source": [
        "Then load the weights from the checkpoint, and re-evaluate:"
      ]
    },
    {
      "cell_type": "code",
      "metadata": {
        "id": "2IZxbwiRRSD2",
        "colab_type": "code",
        "colab": {}
      },
      "source": [
        "model.save_weights('/content/sample_data/my_modelweightsfirst60epochs.h5')\n"
      ],
      "execution_count": 0,
      "outputs": []
    },
    {
      "cell_type": "code",
      "metadata": {
        "id": "kkQ-9lPVVsxP",
        "colab_type": "code",
        "colab": {}
      },
      "source": [
        "\n",
        "# Save entire model to a HDF5 file\n",
        "model.save('/content/sample_data/mymodelfirst60epochs.h5')"
      ],
      "execution_count": 0,
      "outputs": []
    },
    {
      "cell_type": "code",
      "metadata": {
        "id": "vFlXYUBxfLCd",
        "colab_type": "code",
        "colab": {}
      },
      "source": [
        "!ls -ltR /content/sample_data"
      ],
      "execution_count": 0,
      "outputs": []
    },
    {
      "cell_type": "code",
      "metadata": {
        "id": "Rg-4jwTSWCE3",
        "colab_type": "code",
        "colab": {}
      },
      "source": [
        "# Recreate the exact same model, including weights and optimizer.\n",
        "\n",
        "firstepochs_model = keras.models.load_model('/content/sample_data/mymodelfirst60epochs.h5')\n"
      ],
      "execution_count": 0,
      "outputs": []
    },
    {
      "cell_type": "code",
      "metadata": {
        "id": "QckDbuL8WVIv",
        "colab_type": "code",
        "colab": {}
      },
      "source": [
        "plot_history(history)"
      ],
      "execution_count": 0,
      "outputs": []
    },
    {
      "cell_type": "code",
      "metadata": {
        "id": "UJEdRnVA4G3u",
        "colab_type": "code",
        "outputId": "27f0d604-9096-4df7-9578-63b1dfb5af5f",
        "colab": {
          "base_uri": "https://localhost:8080/",
          "height": 1108
        }
      },
      "source": [
        "\n",
        "batch_size=64\n",
        "\n",
        "sgd=SGD(lr=0.15,decay=1e-6,momentum=0.9)\n",
        "model.compile(loss='categorical_crossentropy', optimizer='sgd', metrics=['accuracy'])\n",
        "\n",
        "\n",
        "model.fit_generator(datagen.flow(x_train, y_train, batch_size=batch_size),\\\n",
        "                    steps_per_epoch= x_train.shape[0] // batch_size,epochs=30,\\\n",
        "                    verbose=1,validation_data=(x_test,y_test))\n",
        "\n",
        "\n",
        "model.save_weights('/content/sample_data/my_modelweightsecondsetepochs.h5')\n",
        "\n",
        "# Save entire model to a HDF5 file\n",
        "model.save('/content/sample_data/mymodelsecondsetepochs.h5')\n",
        "\n",
        "Training - Epochs 1 to 30 (max val_acc: 89.58%)"
      ],
      "execution_count": 0,
      "outputs": [
        {
          "output_type": "stream",
          "text": [
            "Epoch 1/30\n",
            "781/781 [==============================] - 218s 279ms/step - loss: 0.0598 - acc: 0.9785 - val_loss: 0.4550 - val_acc: 0.8937\n",
            "Epoch 2/30\n",
            "781/781 [==============================] - 208s 266ms/step - loss: 0.0589 - acc: 0.9795 - val_loss: 0.4546 - val_acc: 0.8955\n",
            "Epoch 3/30\n",
            "781/781 [==============================] - 208s 266ms/step - loss: 0.0608 - acc: 0.9788 - val_loss: 0.4516 - val_acc: 0.8969\n",
            "Epoch 4/30\n",
            "781/781 [==============================] - 208s 266ms/step - loss: 0.0597 - acc: 0.9791 - val_loss: 0.4447 - val_acc: 0.8963\n",
            "Epoch 5/30\n",
            "781/781 [==============================] - 208s 266ms/step - loss: 0.0606 - acc: 0.9791 - val_loss: 0.4557 - val_acc: 0.8954\n",
            "Epoch 6/30\n",
            "781/781 [==============================] - 208s 266ms/step - loss: 0.0588 - acc: 0.9790 - val_loss: 0.4563 - val_acc: 0.8955\n",
            "Epoch 7/30\n",
            "781/781 [==============================] - 208s 266ms/step - loss: 0.0594 - acc: 0.9788 - val_loss: 0.4668 - val_acc: 0.8928\n",
            "Epoch 8/30\n",
            "781/781 [==============================] - 208s 266ms/step - loss: 0.0591 - acc: 0.9792 - val_loss: 0.4609 - val_acc: 0.8941\n",
            "Epoch 9/30\n",
            "781/781 [==============================] - 208s 266ms/step - loss: 0.0580 - acc: 0.9803 - val_loss: 0.4611 - val_acc: 0.8935\n",
            "Epoch 10/30\n",
            "781/781 [==============================] - 208s 266ms/step - loss: 0.0591 - acc: 0.9792 - val_loss: 0.4455 - val_acc: 0.8956\n",
            "Epoch 11/30\n",
            "781/781 [==============================] - 208s 266ms/step - loss: 0.0576 - acc: 0.9803 - val_loss: 0.4644 - val_acc: 0.8933\n",
            "Epoch 12/30\n",
            "781/781 [==============================] - 208s 266ms/step - loss: 0.0562 - acc: 0.9802 - val_loss: 0.4648 - val_acc: 0.8936\n",
            "Epoch 13/30\n",
            "781/781 [==============================] - 208s 266ms/step - loss: 0.0579 - acc: 0.9800 - val_loss: 0.4576 - val_acc: 0.8961\n",
            "Epoch 14/30\n",
            "781/781 [==============================] - 208s 266ms/step - loss: 0.0541 - acc: 0.9814 - val_loss: 0.4562 - val_acc: 0.8966\n",
            "Epoch 15/30\n",
            "781/781 [==============================] - 208s 266ms/step - loss: 0.0552 - acc: 0.9800 - val_loss: 0.4764 - val_acc: 0.8909\n",
            "Epoch 16/30\n",
            "781/781 [==============================] - 208s 266ms/step - loss: 0.0559 - acc: 0.9802 - val_loss: 0.4862 - val_acc: 0.8914\n",
            "Epoch 17/30\n",
            "781/781 [==============================] - 208s 266ms/step - loss: 0.0590 - acc: 0.9792 - val_loss: 0.4665 - val_acc: 0.8966\n",
            "Epoch 18/30\n",
            "781/781 [==============================] - 208s 266ms/step - loss: 0.0562 - acc: 0.9798 - val_loss: 0.4857 - val_acc: 0.8922\n",
            "Epoch 19/30\n",
            "781/781 [==============================] - 208s 266ms/step - loss: 0.0534 - acc: 0.9813 - val_loss: 0.4734 - val_acc: 0.8945\n",
            "Epoch 20/30\n",
            "781/781 [==============================] - 208s 266ms/step - loss: 0.0570 - acc: 0.9803 - val_loss: 0.4653 - val_acc: 0.8971\n",
            "Epoch 21/30\n",
            "781/781 [==============================] - 208s 266ms/step - loss: 0.0568 - acc: 0.9795 - val_loss: 0.4694 - val_acc: 0.8944\n",
            "Epoch 22/30\n",
            "781/781 [==============================] - 208s 266ms/step - loss: 0.0549 - acc: 0.9809 - val_loss: 0.4627 - val_acc: 0.8970\n",
            "Epoch 23/30\n",
            "781/781 [==============================] - 208s 266ms/step - loss: 0.0554 - acc: 0.9811 - val_loss: 0.4810 - val_acc: 0.8934\n",
            "Epoch 24/30\n",
            "781/781 [==============================] - 208s 266ms/step - loss: 0.0549 - acc: 0.9804 - val_loss: 0.4648 - val_acc: 0.8942\n",
            "Epoch 25/30\n",
            "781/781 [==============================] - 208s 267ms/step - loss: 0.0539 - acc: 0.9810 - val_loss: 0.4673 - val_acc: 0.8930\n",
            "Epoch 26/30\n",
            "781/781 [==============================] - 208s 266ms/step - loss: 0.0553 - acc: 0.9804 - val_loss: 0.4624 - val_acc: 0.8976\n",
            "Epoch 27/30\n",
            "781/781 [==============================] - 208s 266ms/step - loss: 0.0553 - acc: 0.9801 - val_loss: 0.4749 - val_acc: 0.8946\n",
            "Epoch 28/30\n",
            "781/781 [==============================] - 208s 266ms/step - loss: 0.0558 - acc: 0.9803 - val_loss: 0.4729 - val_acc: 0.8943\n",
            "Epoch 29/30\n",
            "781/781 [==============================] - 211s 270ms/step - loss: 0.0550 - acc: 0.9804 - val_loss: 0.4737 - val_acc: 0.8938\n",
            "Epoch 30/30\n",
            "781/781 [==============================] - 209s 267ms/step - loss: 0.0534 - acc: 0.9822 - val_loss: 0.4719 - val_acc: 0.8958\n"
          ],
          "name": "stdout"
        }
      ]
    },
    {
      "cell_type": "code",
      "metadata": {
        "id": "8M47bf2UmwVZ",
        "colab_type": "code",
        "colab": {}
      },
      "source": [
        " # Test the model\n",
        "score = model.evaluate(x_test, y_test, verbose=1)\n",
        "print('Test loss:', score[0])\n",
        "print('Test accuracy:', score[1])"
      ],
      "execution_count": 0,
      "outputs": []
    },
    {
      "cell_type": "code",
      "metadata": {
        "id": "yM54GvGtD4J5",
        "colab_type": "code",
        "colab": {}
      },
      "source": [
        "\n",
        "#The training configuration of the model (loss, optimizer).\n",
        "loss, acc =model.evaluate(x_test,y_test)\n",
        "print(\"Model after Fourth set of epochs, accuracy: {:5.2f}%\".format(100*acc))"
      ],
      "execution_count": 0,
      "outputs": []
    },
    {
      "cell_type": "code",
      "metadata": {
        "id": "Og56VCRh5j8V",
        "colab_type": "code",
        "colab": {}
      },
      "source": [
        "print ((model.get_weights()))\n"
      ],
      "execution_count": 0,
      "outputs": []
    }
  ]
}